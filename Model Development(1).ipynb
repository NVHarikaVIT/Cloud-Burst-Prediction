{
 "cells": [
  {
   "cell_type": "code",
   "execution_count": 1,
   "id": "72da7f8c-3bc2-4d6e-966c-6d867ed5cdc5",
   "metadata": {},
   "outputs": [],
   "source": [
    "import pandas as pd\n",
    "import numpy as np\n",
    "import matplotlib.pyplot as plt\n",
    "import seaborn as sns"
   ]
  },
  {
   "cell_type": "code",
   "execution_count": 2,
   "id": "6a3ea0dd-0723-4b7f-b0de-2e122b29d714",
   "metadata": {},
   "outputs": [
    {
     "data": {
      "text/plain": [
       "(96792, 18)"
      ]
     },
     "execution_count": 2,
     "metadata": {},
     "output_type": "execute_result"
    }
   ],
   "source": [
    "df = pd.read_csv(r\"C:\\Users\\nunev\\Downloads\\cloud-burst-v2.csv\")\n",
    "df.shape"
   ]
  },
  {
   "cell_type": "code",
   "execution_count": 3,
   "id": "dd3c432f-11d9-40d1-b351-0a3e0211e9bb",
   "metadata": {},
   "outputs": [
    {
     "data": {
      "text/plain": [
       "(96792, 23)"
      ]
     },
     "execution_count": 3,
     "metadata": {},
     "output_type": "execute_result"
    }
   ],
   "source": [
    "df1 = pd.read_csv(r\"C:\\users\\nunev\\Downloads\\cloud-burst-v1.csv\")\n",
    "df1.shape"
   ]
  },
  {
   "cell_type": "markdown",
   "id": "72574ce6-0a1b-4096-8367-da42afb488c0",
   "metadata": {},
   "source": [
    "## Feature Engineering"
   ]
  },
  {
   "cell_type": "code",
   "execution_count": 5,
   "id": "cf1b7d10-1d5b-4452-9d81-d484fff1f8fe",
   "metadata": {},
   "outputs": [],
   "source": [
    "X=df.drop(['CloudBurst Today', 'CloudBurstTomorrow'], axis=1)\n",
    "y1 = df['CloudBurst Today'] # cloud burst today prediction\n",
    "y2 = df['CloudBurstTomorrow'] # cloud burst tomorow prediction"
   ]
  },
  {
   "cell_type": "markdown",
   "id": "a196445a-88b8-4888-b5ab-77bbb66ee033",
   "metadata": {},
   "source": [
    "## Model Development"
   ]
  },
  {
   "cell_type": "markdown",
   "id": "a3578c01-4cb7-4cc5-a6f5-bda78e8ba61c",
   "metadata": {},
   "source": [
    "Here, we are supposed to predict the occurrence of cloud burst today and tomorrow (i.e. yes/no) which are two independent classes. So we will be using some classification algorithms in machine learning to predict. Here we also compare the performance of various models using some metrics like accuracy score, classification report, f1 score, precision - recall etc."
   ]
  },
  {
   "cell_type": "markdown",
   "id": "a194369d-8f89-4ea2-bab8-d4c88ed85bf2",
   "metadata": {},
   "source": [
    "### Train test split"
   ]
  },
  {
   "cell_type": "code",
   "execution_count": 9,
   "id": "d534c663-3141-4f4e-91bd-8a5269a4bbdc",
   "metadata": {},
   "outputs": [
    {
     "name": "stdout",
     "output_type": "stream",
     "text": [
      "(77433, 16) (19359, 16) (77433,) (19359,)\n"
     ]
    }
   ],
   "source": [
    "from sklearn.model_selection import train_test_split\n",
    "\n",
    "X_train, X_test, y1_train, y1_test = train_test_split(X,y1, stratify=y1, random_state=42, test_size=0.2)\n",
    "X_train, X_test, y2_train, y2_test = train_test_split(X,y2, stratify=y2, random_state=42, test_size=0.2)\n",
    "print(X_train.shape, X_test.shape, y1_train.shape, y1_test.shape)"
   ]
  },
  {
   "cell_type": "code",
   "execution_count": 10,
   "id": "be82f424-4044-49f3-a337-85e53c682d5b",
   "metadata": {},
   "outputs": [
    {
     "name": "stdout",
     "output_type": "stream",
     "text": [
      "(77433,) (19359,)\n"
     ]
    }
   ],
   "source": [
    "print(y2_train.shape, y2_test.shape)"
   ]
  },
  {
   "cell_type": "code",
   "execution_count": 11,
   "id": "50241138-7bd9-4221-b1b3-c0a938ce18bc",
   "metadata": {},
   "outputs": [],
   "source": [
    "from sklearn.metrics import accuracy_score, f1_score, classification_report, roc_auc_score, confusion_matrix"
   ]
  },
  {
   "cell_type": "code",
   "execution_count": 12,
   "id": "df859c27-4a28-4c9d-afce-bf843c54902c",
   "metadata": {},
   "outputs": [
    {
     "data": {
      "text/plain": [
       "Index(['MinimumTemperature', 'MaximumTemperature', 'Rainfall', 'Evaporation',\n",
       "       'Sunshine', 'WindGustSpeed', 'WindSpeed9am', 'WindSpeed3pm',\n",
       "       'Humidity9am', 'Humidity3pm', 'Pressure9am', 'Pressure3pm', 'Cloud9am',\n",
       "       'Cloud3pm', 'Temperature9am', 'Temperature3pm', 'CloudBurst Today',\n",
       "       'CloudBurstTomorrow'],\n",
       "      dtype='object')"
      ]
     },
     "execution_count": 12,
     "metadata": {},
     "output_type": "execute_result"
    }
   ],
   "source": [
    "df.columns"
   ]
  },
  {
   "cell_type": "code",
   "execution_count": 13,
   "id": "3b4ca3c3-7d3a-4e66-8b20-a0515ab3401c",
   "metadata": {},
   "outputs": [],
   "source": [
    "from sklearn.metrics import (precision_recall_curve, PrecisionRecallDisplay)"
   ]
  },
  {
   "cell_type": "markdown",
   "id": "881ed35b-dddc-4c87-8e3c-8c284c680e0e",
   "metadata": {},
   "source": [
    "### 1. Logistic Regression"
   ]
  },
  {
   "cell_type": "code",
   "execution_count": 19,
   "id": "50281fd2-8a16-4b2d-adc3-82b71fd6d01e",
   "metadata": {},
   "outputs": [
    {
     "name": "stdout",
     "output_type": "stream",
     "text": [
      "Accuracy score:  0.9354305490986105\n",
      "Classification report:                precision    recall  f1-score   support\n",
      "\n",
      "           0       0.94      1.00      0.97     18109\n",
      "           1       0.00      0.00      0.00       336\n",
      "           2       0.00      0.00      0.00       914\n",
      "\n",
      "    accuracy                           0.94     19359\n",
      "   macro avg       0.31      0.33      0.32     19359\n",
      "weighted avg       0.88      0.94      0.90     19359\n",
      "\n",
      "F1 score:  0.32221273264296646\n",
      "ROC score:  0.5060464768282156\n"
     ]
    },
    {
     "name": "stderr",
     "output_type": "stream",
     "text": [
      "C:\\Users\\nunev\\anaconda3\\Lib\\site-packages\\sklearn\\metrics\\_classification.py:1509: UndefinedMetricWarning: Precision is ill-defined and being set to 0.0 in labels with no predicted samples. Use `zero_division` parameter to control this behavior.\n",
      "  _warn_prf(average, modifier, f\"{metric.capitalize()} is\", len(result))\n",
      "C:\\Users\\nunev\\anaconda3\\Lib\\site-packages\\sklearn\\metrics\\_classification.py:1509: UndefinedMetricWarning: Precision is ill-defined and being set to 0.0 in labels with no predicted samples. Use `zero_division` parameter to control this behavior.\n",
      "  _warn_prf(average, modifier, f\"{metric.capitalize()} is\", len(result))\n",
      "C:\\Users\\nunev\\anaconda3\\Lib\\site-packages\\sklearn\\metrics\\_classification.py:1509: UndefinedMetricWarning: Precision is ill-defined and being set to 0.0 in labels with no predicted samples. Use `zero_division` parameter to control this behavior.\n",
      "  _warn_prf(average, modifier, f\"{metric.capitalize()} is\", len(result))\n"
     ]
    },
    {
     "ename": "ValueError",
     "evalue": "multiclass format is not supported",
     "output_type": "error",
     "traceback": [
      "\u001b[1;31m---------------------------------------------------------------------------\u001b[0m",
      "\u001b[1;31mValueError\u001b[0m                                Traceback (most recent call last)",
      "Cell \u001b[1;32mIn[19], line 13\u001b[0m\n\u001b[0;32m     11\u001b[0m \u001b[38;5;28mprint\u001b[39m(\u001b[38;5;124m\"\u001b[39m\u001b[38;5;124mF1 score: \u001b[39m\u001b[38;5;124m\"\u001b[39m, f1_score(y1_test, y_predict1, average\u001b[38;5;241m=\u001b[39m\u001b[38;5;124m'\u001b[39m\u001b[38;5;124mmacro\u001b[39m\u001b[38;5;124m'\u001b[39m))\n\u001b[0;32m     12\u001b[0m \u001b[38;5;28mprint\u001b[39m(\u001b[38;5;124m\"\u001b[39m\u001b[38;5;124mROC score: \u001b[39m\u001b[38;5;124m\"\u001b[39m, roc_auc_score(y1_test, y1_probs, multi_class\u001b[38;5;241m=\u001b[39m\u001b[38;5;124m'\u001b[39m\u001b[38;5;124movr\u001b[39m\u001b[38;5;124m'\u001b[39m))\n\u001b[1;32m---> 13\u001b[0m prec, rec, _ \u001b[38;5;241m=\u001b[39m precision_recall_curve(y1_test, y_predict1)\n\u001b[0;32m     14\u001b[0m disp \u001b[38;5;241m=\u001b[39m PrecisionRecallDisplay(precision\u001b[38;5;241m=\u001b[39mprec, recall\u001b[38;5;241m=\u001b[39mrec)\n\u001b[0;32m     15\u001b[0m disp\u001b[38;5;241m.\u001b[39mplot()\n",
      "File \u001b[1;32m~\\anaconda3\\Lib\\site-packages\\sklearn\\utils\\_param_validation.py:213\u001b[0m, in \u001b[0;36mvalidate_params.<locals>.decorator.<locals>.wrapper\u001b[1;34m(*args, **kwargs)\u001b[0m\n\u001b[0;32m    207\u001b[0m \u001b[38;5;28;01mtry\u001b[39;00m:\n\u001b[0;32m    208\u001b[0m     \u001b[38;5;28;01mwith\u001b[39;00m config_context(\n\u001b[0;32m    209\u001b[0m         skip_parameter_validation\u001b[38;5;241m=\u001b[39m(\n\u001b[0;32m    210\u001b[0m             prefer_skip_nested_validation \u001b[38;5;129;01mor\u001b[39;00m global_skip_validation\n\u001b[0;32m    211\u001b[0m         )\n\u001b[0;32m    212\u001b[0m     ):\n\u001b[1;32m--> 213\u001b[0m         \u001b[38;5;28;01mreturn\u001b[39;00m func(\u001b[38;5;241m*\u001b[39margs, \u001b[38;5;241m*\u001b[39m\u001b[38;5;241m*\u001b[39mkwargs)\n\u001b[0;32m    214\u001b[0m \u001b[38;5;28;01mexcept\u001b[39;00m InvalidParameterError \u001b[38;5;28;01mas\u001b[39;00m e:\n\u001b[0;32m    215\u001b[0m     \u001b[38;5;66;03m# When the function is just a wrapper around an estimator, we allow\u001b[39;00m\n\u001b[0;32m    216\u001b[0m     \u001b[38;5;66;03m# the function to delegate validation to the estimator, but we replace\u001b[39;00m\n\u001b[0;32m    217\u001b[0m     \u001b[38;5;66;03m# the name of the estimator by the name of the function in the error\u001b[39;00m\n\u001b[0;32m    218\u001b[0m     \u001b[38;5;66;03m# message to avoid confusion.\u001b[39;00m\n\u001b[0;32m    219\u001b[0m     msg \u001b[38;5;241m=\u001b[39m re\u001b[38;5;241m.\u001b[39msub(\n\u001b[0;32m    220\u001b[0m         \u001b[38;5;124mr\u001b[39m\u001b[38;5;124m\"\u001b[39m\u001b[38;5;124mparameter of \u001b[39m\u001b[38;5;124m\\\u001b[39m\u001b[38;5;124mw+ must be\u001b[39m\u001b[38;5;124m\"\u001b[39m,\n\u001b[0;32m    221\u001b[0m         \u001b[38;5;124mf\u001b[39m\u001b[38;5;124m\"\u001b[39m\u001b[38;5;124mparameter of \u001b[39m\u001b[38;5;132;01m{\u001b[39;00mfunc\u001b[38;5;241m.\u001b[39m\u001b[38;5;18m__qualname__\u001b[39m\u001b[38;5;132;01m}\u001b[39;00m\u001b[38;5;124m must be\u001b[39m\u001b[38;5;124m\"\u001b[39m,\n\u001b[0;32m    222\u001b[0m         \u001b[38;5;28mstr\u001b[39m(e),\n\u001b[0;32m    223\u001b[0m     )\n",
      "File \u001b[1;32m~\\anaconda3\\Lib\\site-packages\\sklearn\\metrics\\_ranking.py:965\u001b[0m, in \u001b[0;36mprecision_recall_curve\u001b[1;34m(y_true, probas_pred, pos_label, sample_weight, drop_intermediate)\u001b[0m\n\u001b[0;32m    865\u001b[0m \u001b[38;5;129m@validate_params\u001b[39m(\n\u001b[0;32m    866\u001b[0m     {\n\u001b[0;32m    867\u001b[0m         \u001b[38;5;124m\"\u001b[39m\u001b[38;5;124my_true\u001b[39m\u001b[38;5;124m\"\u001b[39m: [\u001b[38;5;124m\"\u001b[39m\u001b[38;5;124marray-like\u001b[39m\u001b[38;5;124m\"\u001b[39m],\n\u001b[1;32m   (...)\u001b[0m\n\u001b[0;32m    876\u001b[0m     y_true, probas_pred, \u001b[38;5;241m*\u001b[39m, pos_label\u001b[38;5;241m=\u001b[39m\u001b[38;5;28;01mNone\u001b[39;00m, sample_weight\u001b[38;5;241m=\u001b[39m\u001b[38;5;28;01mNone\u001b[39;00m, drop_intermediate\u001b[38;5;241m=\u001b[39m\u001b[38;5;28;01mFalse\u001b[39;00m\n\u001b[0;32m    877\u001b[0m ):\n\u001b[0;32m    878\u001b[0m \u001b[38;5;250m    \u001b[39m\u001b[38;5;124;03m\"\"\"Compute precision-recall pairs for different probability thresholds.\u001b[39;00m\n\u001b[0;32m    879\u001b[0m \n\u001b[0;32m    880\u001b[0m \u001b[38;5;124;03m    Note: this implementation is restricted to the binary classification task.\u001b[39;00m\n\u001b[1;32m   (...)\u001b[0m\n\u001b[0;32m    963\u001b[0m \u001b[38;5;124;03m    array([0.1 , 0.35, 0.4 , 0.8 ])\u001b[39;00m\n\u001b[0;32m    964\u001b[0m \u001b[38;5;124;03m    \"\"\"\u001b[39;00m\n\u001b[1;32m--> 965\u001b[0m     fps, tps, thresholds \u001b[38;5;241m=\u001b[39m _binary_clf_curve(\n\u001b[0;32m    966\u001b[0m         y_true, probas_pred, pos_label\u001b[38;5;241m=\u001b[39mpos_label, sample_weight\u001b[38;5;241m=\u001b[39msample_weight\n\u001b[0;32m    967\u001b[0m     )\n\u001b[0;32m    969\u001b[0m     \u001b[38;5;28;01mif\u001b[39;00m drop_intermediate \u001b[38;5;129;01mand\u001b[39;00m \u001b[38;5;28mlen\u001b[39m(fps) \u001b[38;5;241m>\u001b[39m \u001b[38;5;241m2\u001b[39m:\n\u001b[0;32m    970\u001b[0m         \u001b[38;5;66;03m# Drop thresholds corresponding to points where true positives (tps)\u001b[39;00m\n\u001b[0;32m    971\u001b[0m         \u001b[38;5;66;03m# do not change from the previous or subsequent point. This will keep\u001b[39;00m\n\u001b[0;32m    972\u001b[0m         \u001b[38;5;66;03m# only the first and last point for each tps value. All points\u001b[39;00m\n\u001b[0;32m    973\u001b[0m         \u001b[38;5;66;03m# with the same tps value have the same recall and thus x coordinate.\u001b[39;00m\n\u001b[0;32m    974\u001b[0m         \u001b[38;5;66;03m# They appear as a vertical line on the plot.\u001b[39;00m\n\u001b[0;32m    975\u001b[0m         optimal_idxs \u001b[38;5;241m=\u001b[39m np\u001b[38;5;241m.\u001b[39mwhere(\n\u001b[0;32m    976\u001b[0m             np\u001b[38;5;241m.\u001b[39mconcatenate(\n\u001b[0;32m    977\u001b[0m                 [[\u001b[38;5;28;01mTrue\u001b[39;00m], np\u001b[38;5;241m.\u001b[39mlogical_or(np\u001b[38;5;241m.\u001b[39mdiff(tps[:\u001b[38;5;241m-\u001b[39m\u001b[38;5;241m1\u001b[39m]), np\u001b[38;5;241m.\u001b[39mdiff(tps[\u001b[38;5;241m1\u001b[39m:])), [\u001b[38;5;28;01mTrue\u001b[39;00m]]\n\u001b[0;32m    978\u001b[0m             )\n\u001b[0;32m    979\u001b[0m         )[\u001b[38;5;241m0\u001b[39m]\n",
      "File \u001b[1;32m~\\anaconda3\\Lib\\site-packages\\sklearn\\metrics\\_ranking.py:817\u001b[0m, in \u001b[0;36m_binary_clf_curve\u001b[1;34m(y_true, y_score, pos_label, sample_weight)\u001b[0m\n\u001b[0;32m    815\u001b[0m y_type \u001b[38;5;241m=\u001b[39m type_of_target(y_true, input_name\u001b[38;5;241m=\u001b[39m\u001b[38;5;124m\"\u001b[39m\u001b[38;5;124my_true\u001b[39m\u001b[38;5;124m\"\u001b[39m)\n\u001b[0;32m    816\u001b[0m \u001b[38;5;28;01mif\u001b[39;00m \u001b[38;5;129;01mnot\u001b[39;00m (y_type \u001b[38;5;241m==\u001b[39m \u001b[38;5;124m\"\u001b[39m\u001b[38;5;124mbinary\u001b[39m\u001b[38;5;124m\"\u001b[39m \u001b[38;5;129;01mor\u001b[39;00m (y_type \u001b[38;5;241m==\u001b[39m \u001b[38;5;124m\"\u001b[39m\u001b[38;5;124mmulticlass\u001b[39m\u001b[38;5;124m\"\u001b[39m \u001b[38;5;129;01mand\u001b[39;00m pos_label \u001b[38;5;129;01mis\u001b[39;00m \u001b[38;5;129;01mnot\u001b[39;00m \u001b[38;5;28;01mNone\u001b[39;00m)):\n\u001b[1;32m--> 817\u001b[0m     \u001b[38;5;28;01mraise\u001b[39;00m \u001b[38;5;167;01mValueError\u001b[39;00m(\u001b[38;5;124m\"\u001b[39m\u001b[38;5;132;01m{0}\u001b[39;00m\u001b[38;5;124m format is not supported\u001b[39m\u001b[38;5;124m\"\u001b[39m\u001b[38;5;241m.\u001b[39mformat(y_type))\n\u001b[0;32m    819\u001b[0m check_consistent_length(y_true, y_score, sample_weight)\n\u001b[0;32m    820\u001b[0m y_true \u001b[38;5;241m=\u001b[39m column_or_1d(y_true)\n",
      "\u001b[1;31mValueError\u001b[0m: multiclass format is not supported"
     ]
    }
   ],
   "source": [
    "from sklearn.linear_model import LogisticRegression\n",
    "log_reg = LogisticRegression(max_iter=100000)\n",
    "# train the model\n",
    "log_reg.fit(X_train, y1_train)\n",
    "# prediction for today\n",
    "y_predict1 = log_reg.predict(X_test)\n",
    "# accuracy of the model\n",
    "y1_probs = log_reg.predict_proba(X_test)\n",
    "print(\"Accuracy score: \", accuracy_score(y1_test, y_predict1))\n",
    "print(\"Classification report: \", classification_report(y1_test, y_predict1))\n",
    "print(\"F1 score: \", f1_score(y1_test, y_predict1, average='macro'))\n",
    "print(\"ROC score: \", roc_auc_score(y1_test, y1_probs, multi_class='ovr'))\n",
    "prec, rec, _ = precision_recall_curve(y1_test, y_predict1)\n",
    "disp = PrecisionRecallDisplay(precision=prec, recall=rec)\n",
    "disp.plot()\n",
    "plt.show()\n",
    "print(\"Precision: \", precision_score(y1_test, y_predict1, average='macro'))\n",
    "print(\"Recall: \", recall_score(y1_test, y_predict1, average='macro'))"
   ]
  },
  {
   "cell_type": "code",
   "execution_count": 23,
   "id": "dc6b99b5-cf7c-40fa-9314-abf72c5c0d94",
   "metadata": {},
   "outputs": [
    {
     "name": "stdout",
     "output_type": "stream",
     "text": [
      "Accuracy score:  0.8637842863784286\n",
      "Classification report: \n",
      "               precision    recall  f1-score   support\n",
      "\n",
      "           0       0.88      0.98      0.93     16484\n",
      "           1       0.00      0.00      0.00       356\n",
      "           2       0.62      0.22      0.32      2519\n",
      "\n",
      "    accuracy                           0.86     19359\n",
      "   macro avg       0.50      0.40      0.42     19359\n",
      "weighted avg       0.83      0.86      0.83     19359\n",
      "\n",
      "F1 score:  0.4150931827456436\n",
      "ROC score:  0.7515168307012505\n"
     ]
    },
    {
     "name": "stderr",
     "output_type": "stream",
     "text": [
      "C:\\Users\\nunev\\anaconda3\\Lib\\site-packages\\sklearn\\metrics\\_classification.py:1509: UndefinedMetricWarning: Precision is ill-defined and being set to 0.0 in labels with no predicted samples. Use `zero_division` parameter to control this behavior.\n",
      "  _warn_prf(average, modifier, f\"{metric.capitalize()} is\", len(result))\n",
      "C:\\Users\\nunev\\anaconda3\\Lib\\site-packages\\sklearn\\metrics\\_classification.py:1509: UndefinedMetricWarning: Precision is ill-defined and being set to 0.0 in labels with no predicted samples. Use `zero_division` parameter to control this behavior.\n",
      "  _warn_prf(average, modifier, f\"{metric.capitalize()} is\", len(result))\n",
      "C:\\Users\\nunev\\anaconda3\\Lib\\site-packages\\sklearn\\metrics\\_classification.py:1509: UndefinedMetricWarning: Precision is ill-defined and being set to 0.0 in labels with no predicted samples. Use `zero_division` parameter to control this behavior.\n",
      "  _warn_prf(average, modifier, f\"{metric.capitalize()} is\", len(result))\n"
     ]
    }
   ],
   "source": [
    "log_reg.fit(X_train, y2_train)\n",
    "y2_predict = log_reg.predict(X_test)\n",
    "y2_probs = log_reg.predict_proba(X_test)\n",
    "print(\"Accuracy score: \", accuracy_score(y2_test, y2_predict))\n",
    "print(\"Classification report: \\n\", classification_report(y2_test, y2_predict))\n",
    "print(\"F1 score: \", f1_score(y2_test, y2_predict, average='macro'))\n",
    "print(\"ROC score: \", roc_auc_score(y2_test, y2_probs, multi_class='ovr'))"
   ]
  },
  {
   "cell_type": "code",
   "execution_count": 31,
   "id": "7a29c9e9-7c3a-40c4-b5ae-be315487c5f7",
   "metadata": {},
   "outputs": [
    {
     "name": "stdout",
     "output_type": "stream",
     "text": [
      "Today: \n",
      " [[18109     0     0]\n",
      " [  336     0     0]\n",
      " [  914     0     0]]\n",
      "Tomorrow: \n",
      " [[16180     0   304]\n",
      " [  334     0    22]\n",
      " [ 1977     0   542]]\n"
     ]
    }
   ],
   "source": [
    "# cloud burst today\n",
    "print(\"Today: \\n\", confusion_matrix(y1_test, y_predict1))\n",
    "print(\"Tomorrow: \\n\", confusion_matrix(y2_test, y2_predict))"
   ]
  },
  {
   "cell_type": "markdown",
   "id": "d35d5dd0-df96-47ff-bc67-12a10ecd9198",
   "metadata": {},
   "source": [
    "#### 2. Random Forest Classifier"
   ]
  },
  {
   "cell_type": "code",
   "execution_count": 33,
   "id": "18fc3662-e86a-4a5a-8ee8-fa8cff4d0ccd",
   "metadata": {},
   "outputs": [
    {
     "name": "stdout",
     "output_type": "stream",
     "text": [
      "Accuracy score:  0.9354305490986105\n",
      "              precision    recall  f1-score   support\n",
      "\n",
      "           0       0.94      1.00      0.97     18109\n",
      "           1       0.00      0.00      0.00       336\n",
      "           2       0.00      0.00      0.00       914\n",
      "\n",
      "    accuracy                           0.94     19359\n",
      "   macro avg       0.31      0.33      0.32     19359\n",
      "weighted avg       0.88      0.94      0.90     19359\n",
      "\n",
      "ROC score:  0.4969696746800145\n"
     ]
    },
    {
     "name": "stderr",
     "output_type": "stream",
     "text": [
      "C:\\Users\\nunev\\anaconda3\\Lib\\site-packages\\sklearn\\metrics\\_classification.py:1509: UndefinedMetricWarning: Precision is ill-defined and being set to 0.0 in labels with no predicted samples. Use `zero_division` parameter to control this behavior.\n",
      "  _warn_prf(average, modifier, f\"{metric.capitalize()} is\", len(result))\n",
      "C:\\Users\\nunev\\anaconda3\\Lib\\site-packages\\sklearn\\metrics\\_classification.py:1509: UndefinedMetricWarning: Precision is ill-defined and being set to 0.0 in labels with no predicted samples. Use `zero_division` parameter to control this behavior.\n",
      "  _warn_prf(average, modifier, f\"{metric.capitalize()} is\", len(result))\n",
      "C:\\Users\\nunev\\anaconda3\\Lib\\site-packages\\sklearn\\metrics\\_classification.py:1509: UndefinedMetricWarning: Precision is ill-defined and being set to 0.0 in labels with no predicted samples. Use `zero_division` parameter to control this behavior.\n",
      "  _warn_prf(average, modifier, f\"{metric.capitalize()} is\", len(result))\n"
     ]
    }
   ],
   "source": [
    "from sklearn.ensemble import RandomForestClassifier\n",
    "model = RandomForestClassifier(n_estimators=50, max_depth=18, random_state=42)\n",
    "model.fit(X_train, y1_train)\n",
    "y1_predict = model.predict(X_test)\n",
    "y1_probs = model.predict_proba(X_test)\n",
    "print(\"Accuracy score: \", accuracy_score(y1_test, y1_predict))\n",
    "print(classification_report(y1_test, y1_predict))\n",
    "print(\"ROC score: \", roc_auc_score(y1_test, y1_probs, multi_class='ovr'))"
   ]
  },
  {
   "cell_type": "code",
   "execution_count": 34,
   "id": "965db83b-8752-4143-a6df-bc438fb20ca1",
   "metadata": {},
   "outputs": [
    {
     "name": "stdout",
     "output_type": "stream",
     "text": [
      "Accuracy score:  0.8670902422645798\n",
      "Classification report: \n",
      "               precision    recall  f1-score   support\n",
      "\n",
      "           0       0.88      0.99      0.93     16484\n",
      "           1       0.00      0.00      0.00       356\n",
      "           2       0.67      0.22      0.33      2519\n",
      "\n",
      "    accuracy                           0.87     19359\n",
      "   macro avg       0.52      0.40      0.42     19359\n",
      "weighted avg       0.83      0.87      0.83     19359\n",
      "\n",
      "F1 score:  0.41851719771537255\n",
      "ROC score:  0.7515168307012505\n"
     ]
    },
    {
     "name": "stderr",
     "output_type": "stream",
     "text": [
      "C:\\Users\\nunev\\anaconda3\\Lib\\site-packages\\sklearn\\metrics\\_classification.py:1509: UndefinedMetricWarning: Precision is ill-defined and being set to 0.0 in labels with no predicted samples. Use `zero_division` parameter to control this behavior.\n",
      "  _warn_prf(average, modifier, f\"{metric.capitalize()} is\", len(result))\n",
      "C:\\Users\\nunev\\anaconda3\\Lib\\site-packages\\sklearn\\metrics\\_classification.py:1509: UndefinedMetricWarning: Precision is ill-defined and being set to 0.0 in labels with no predicted samples. Use `zero_division` parameter to control this behavior.\n",
      "  _warn_prf(average, modifier, f\"{metric.capitalize()} is\", len(result))\n",
      "C:\\Users\\nunev\\anaconda3\\Lib\\site-packages\\sklearn\\metrics\\_classification.py:1509: UndefinedMetricWarning: Precision is ill-defined and being set to 0.0 in labels with no predicted samples. Use `zero_division` parameter to control this behavior.\n",
      "  _warn_prf(average, modifier, f\"{metric.capitalize()} is\", len(result))\n"
     ]
    }
   ],
   "source": [
    "model.fit(X_train, y2_train)\n",
    "y2_predict = model.predict(X_test)\n",
    "print(\"Accuracy score: \", accuracy_score(y2_test, y2_predict))\n",
    "print(\"Classification report: \\n\", classification_report(y2_test, y2_predict))\n",
    "print(\"F1 score: \", f1_score(y2_test, y2_predict, average='macro'))\n",
    "print(\"ROC score: \", roc_auc_score(y2_test, y2_probs, multi_class='ovr'))"
   ]
  },
  {
   "cell_type": "code",
   "execution_count": 37,
   "id": "6314529f-b251-47cc-8e94-951e0956a339",
   "metadata": {},
   "outputs": [
    {
     "name": "stdout",
     "output_type": "stream",
     "text": [
      "Today: \n",
      " [[18109     0     0]\n",
      " [  336     0     0]\n",
      " [  914     0     0]]\n",
      "Tomorrow: \n",
      " [[16239     0   245]\n",
      " [  336     0    20]\n",
      " [ 1972     0   547]]\n"
     ]
    }
   ],
   "source": [
    "print(\"Today: \\n\", confusion_matrix(y1_test, y1_predict))\n",
    "print(\"Tomorrow: \\n\", confusion_matrix(y2_test, y2_predict))"
   ]
  },
  {
   "cell_type": "markdown",
   "id": "bc5c3a63-ad7a-4ed8-95a9-ee0184f50088",
   "metadata": {},
   "source": [
    "#### 3. Gradient Boosting Algorithm"
   ]
  },
  {
   "cell_type": "code",
   "execution_count": 39,
   "id": "23ccda28-9d6a-4b9c-a4f2-94d479154d8d",
   "metadata": {},
   "outputs": [
    {
     "name": "stdout",
     "output_type": "stream",
     "text": [
      "Accuracy score:  0.9352755824164471\n",
      "              precision    recall  f1-score   support\n",
      "\n",
      "           0       0.94      1.00      0.97     18109\n",
      "           1       0.00      0.00      0.00       336\n",
      "           2       0.00      0.00      0.00       914\n",
      "\n",
      "    accuracy                           0.94     19359\n",
      "   macro avg       0.31      0.33      0.32     19359\n",
      "weighted avg       0.88      0.94      0.90     19359\n",
      "\n",
      "F1 score:  0.3221851505849904\n",
      "ROC score:  0.47942055932150685\n"
     ]
    }
   ],
   "source": [
    "from sklearn.ensemble import GradientBoostingClassifier\n",
    "gb_clf = GradientBoostingClassifier(n_estimators=100, random_state=42)\n",
    "gb_clf.fit(X_train, y1_train)\n",
    "y1_predict = gb_clf.predict(X_test)\n",
    "y1_probs = model.predict_proba(X_test)\n",
    "print(\"Accuracy score: \", accuracy_score(y1_test, y1_predict))\n",
    "print(classification_report(y1_test, y1_predict))\n",
    "print(\"F1 score: \", f1_score(y1_test, y1_predict, average='macro'))\n",
    "print(\"ROC score: \", roc_auc_score(y1_test, y1_probs, multi_class='ovr'))"
   ]
  },
  {
   "cell_type": "code",
   "execution_count": 40,
   "id": "6945a9ed-edaa-45a0-bb0f-0555dcedec1a",
   "metadata": {},
   "outputs": [
    {
     "name": "stdout",
     "output_type": "stream",
     "text": [
      "Accuracy score:  0.8679167312361176\n",
      "Classification report: \n",
      "               precision    recall  f1-score   support\n",
      "\n",
      "           0       0.88      0.98      0.93     16484\n",
      "           1       0.59      0.08      0.15       356\n",
      "           2       0.66      0.23      0.34      2519\n",
      "\n",
      "    accuracy                           0.87     19359\n",
      "   macro avg       0.71      0.43      0.47     19359\n",
      "weighted avg       0.84      0.87      0.84     19359\n",
      "\n",
      "F1 score:  0.4709144681965614\n",
      "ROC score:  0.7924956360939057\n"
     ]
    }
   ],
   "source": [
    "gb_clf.fit(X_train, y2_train)\n",
    "y2_predict = gb_clf.predict(X_test)\n",
    "y2_probs = gb_clf.predict_proba(X_test)\n",
    "print(\"Accuracy score: \", accuracy_score(y2_test, y2_predict))\n",
    "print(\"Classification report: \\n\", classification_report(y2_test, y2_predict))\n",
    "print(\"F1 score: \", f1_score(y2_test, y2_predict, average='macro'))\n",
    "print(\"ROC score: \", roc_auc_score(y2_test, y2_probs, multi_class='ovr'))"
   ]
  },
  {
   "cell_type": "code",
   "execution_count": 43,
   "id": "05eb85fe-3ee6-42e7-a877-8e88c40a0fb7",
   "metadata": {},
   "outputs": [
    {
     "name": "stdout",
     "output_type": "stream",
     "text": [
      "Today: \n",
      " [[18106     1     2]\n",
      " [  336     0     0]\n",
      " [  914     0     0]]\n",
      "Tomorrow: \n",
      " [[16201     8   275]\n",
      " [  309    30    17]\n",
      " [ 1935    13   571]]\n"
     ]
    }
   ],
   "source": [
    "print(\"Today: \\n\", confusion_matrix(y1_test, y1_predict))\n",
    "print(\"Tomorrow: \\n\", confusion_matrix(y2_test, y2_predict))"
   ]
  },
  {
   "cell_type": "markdown",
   "id": "44fcdcb1-9235-4660-a5d7-44dbfeae4eab",
   "metadata": {},
   "source": [
    "#### 4. Decision Tree Classifier"
   ]
  },
  {
   "cell_type": "code",
   "execution_count": 45,
   "id": "0c8b0845-c95f-41ca-a2cb-3f8f1a3736fb",
   "metadata": {},
   "outputs": [
    {
     "name": "stdout",
     "output_type": "stream",
     "text": [
      "Accuracy score:  0.9352755824164471\n",
      "              precision    recall  f1-score   support\n",
      "\n",
      "           0       0.94      1.00      0.97     18109\n",
      "           1       0.00      0.00      0.00       336\n",
      "           2       0.00      0.00      0.00       914\n",
      "\n",
      "    accuracy                           0.94     19359\n",
      "   macro avg       0.31      0.33      0.32     19359\n",
      "weighted avg       0.88      0.94      0.90     19359\n",
      "\n",
      "F1 score:  0.3221851505849904\n",
      "ROC score:  0.49699842856587156\n"
     ]
    }
   ],
   "source": [
    "from sklearn.tree import DecisionTreeClassifier\n",
    "dtree = DecisionTreeClassifier(max_depth=5, max_leaf_nodes=3, min_samples_split=2, random_state=42)\n",
    "dtree.fit(X_train, y1_train)\n",
    "y1_pred = dtree.predict(X_test)\n",
    "y1_probs = dtree.predict_proba(X_test)\n",
    "print(\"Accuracy score: \", accuracy_score(y1_test, y1_predict))\n",
    "print(classification_report(y1_test, y1_predict))\n",
    "print(\"F1 score: \", f1_score(y1_test, y1_predict, average='macro'))\n",
    "print(\"ROC score: \", roc_auc_score(y1_test, y1_probs, multi_class='ovr'))"
   ]
  },
  {
   "cell_type": "code",
   "execution_count": 47,
   "id": "bddf844a-74bb-49d9-8ca4-eaab83b5ddfc",
   "metadata": {},
   "outputs": [
    {
     "name": "stdout",
     "output_type": "stream",
     "text": [
      "Accuracy score:  0.8679167312361176\n",
      "Classification report: \n",
      "               precision    recall  f1-score   support\n",
      "\n",
      "           0       0.88      0.98      0.93     16484\n",
      "           1       0.59      0.08      0.15       356\n",
      "           2       0.66      0.23      0.34      2519\n",
      "\n",
      "    accuracy                           0.87     19359\n",
      "   macro avg       0.71      0.43      0.47     19359\n",
      "weighted avg       0.84      0.87      0.84     19359\n",
      "\n",
      "F1 score:  0.4709144681965614\n",
      "ROC score:  0.6004559417849857\n"
     ]
    }
   ],
   "source": [
    "dtree.fit(X_train, y2_train)\n",
    "y2_pred = dtree.predict(X_test)\n",
    "y2_probs = dtree.predict_proba(X_test)\n",
    "print(\"Accuracy score: \", accuracy_score(y2_test, y2_predict))\n",
    "print(\"Classification report: \\n\", classification_report(y2_test, y2_predict))\n",
    "print(\"F1 score: \", f1_score(y2_test, y2_predict, average='macro'))\n",
    "print(\"ROC score: \", roc_auc_score(y2_test, y2_probs, multi_class='ovr'))"
   ]
  },
  {
   "cell_type": "code",
   "execution_count": 49,
   "id": "bad3aa79-52a7-4086-ac8c-1ab2d1a1dec2",
   "metadata": {},
   "outputs": [
    {
     "name": "stdout",
     "output_type": "stream",
     "text": [
      "|--- Humidity3pm <= 1.04\n",
      "|   |--- class: 0\n",
      "|--- Humidity3pm >  1.04\n",
      "|   |--- Humidity3pm <= 1.96\n",
      "|   |   |--- class: 0\n",
      "|   |--- Humidity3pm >  1.96\n",
      "|   |   |--- class: 2\n",
      "\n"
     ]
    }
   ],
   "source": [
    "from sklearn.tree import export_text\n",
    "rules = export_text(dtree, feature_names=['MinimumTemperature', 'MaximumTemperature', 'Rainfall', 'Evaporation',\n",
    "       'Sunshine', 'WindGustSpeed', 'WindSpeed9am', 'WindSpeed3pm',\n",
    "       'Humidity9am', 'Humidity3pm', 'Pressure9am', 'Pressure3pm', 'Cloud9am',\n",
    "       'Cloud3pm', 'Temperature9am', 'Temperature3pm'])\n",
    "print(rules)"
   ]
  },
  {
   "cell_type": "code",
   "execution_count": 51,
   "id": "5b7ff61f-c66f-4cb8-972c-9c0c33369af6",
   "metadata": {},
   "outputs": [
    {
     "name": "stdout",
     "output_type": "stream",
     "text": [
      "Today: \n",
      " [[18106     1     2]\n",
      " [  336     0     0]\n",
      " [  914     0     0]]\n",
      "Tomorrow: \n",
      " [[16201     8   275]\n",
      " [  309    30    17]\n",
      " [ 1935    13   571]]\n"
     ]
    }
   ],
   "source": [
    "print(\"Today: \\n\", confusion_matrix(y1_test, y1_predict))\n",
    "print(\"Tomorrow: \\n\", confusion_matrix(y2_test, y2_predict))"
   ]
  },
  {
   "cell_type": "markdown",
   "id": "6e48f6f0-94fc-495d-aa09-53a89da165e2",
   "metadata": {},
   "source": [
    "#### 5. Naive Bayes"
   ]
  },
  {
   "cell_type": "code",
   "execution_count": 53,
   "id": "96c9df95-ea5c-4fe2-91f7-91eaae463ec2",
   "metadata": {},
   "outputs": [
    {
     "name": "stdout",
     "output_type": "stream",
     "text": [
      "Accuracy: 0.9354305490986105\n",
      "Classification Report:\n",
      "              precision    recall  f1-score   support\n",
      "\n",
      "           0       0.94      1.00      0.97     18109\n",
      "           1       0.00      0.00      0.00       336\n",
      "           2       0.00      0.00      0.00       914\n",
      "\n",
      "    accuracy                           0.94     19359\n",
      "   macro avg       0.31      0.33      0.32     19359\n",
      "weighted avg       0.88      0.94      0.90     19359\n",
      "\n",
      "F1 score:  0.3221851505849904\n",
      "ROC score:  0.49699842856587156\n"
     ]
    },
    {
     "name": "stderr",
     "output_type": "stream",
     "text": [
      "C:\\Users\\nunev\\anaconda3\\Lib\\site-packages\\sklearn\\metrics\\_classification.py:1509: UndefinedMetricWarning: Precision is ill-defined and being set to 0.0 in labels with no predicted samples. Use `zero_division` parameter to control this behavior.\n",
      "  _warn_prf(average, modifier, f\"{metric.capitalize()} is\", len(result))\n",
      "C:\\Users\\nunev\\anaconda3\\Lib\\site-packages\\sklearn\\metrics\\_classification.py:1509: UndefinedMetricWarning: Precision is ill-defined and being set to 0.0 in labels with no predicted samples. Use `zero_division` parameter to control this behavior.\n",
      "  _warn_prf(average, modifier, f\"{metric.capitalize()} is\", len(result))\n",
      "C:\\Users\\nunev\\anaconda3\\Lib\\site-packages\\sklearn\\metrics\\_classification.py:1509: UndefinedMetricWarning: Precision is ill-defined and being set to 0.0 in labels with no predicted samples. Use `zero_division` parameter to control this behavior.\n",
      "  _warn_prf(average, modifier, f\"{metric.capitalize()} is\", len(result))\n"
     ]
    }
   ],
   "source": [
    "from sklearn.naive_bayes import GaussianNB\n",
    "from sklearn.preprocessing import LabelEncoder\n",
    "# Initialize and fit the Naive Bayes classifier (Gaussian Naive Bayes)\n",
    "naive_bayes_classifier = GaussianNB()\n",
    "naive_bayes_classifier.fit(X_train, y1_train)\n",
    "\n",
    "# Make predictions\n",
    "y1_pred = naive_bayes_classifier.predict(X_test)\n",
    "y_probs = naive_bayes_classifier.predict_proba(X_test)\n",
    "# Evaluate the model\n",
    "accuracy = accuracy_score(y1_test, y1_pred)\n",
    "print(\"Accuracy:\", accuracy)\n",
    "\n",
    "# Classification report\n",
    "print(\"Classification Report:\")\n",
    "print(classification_report(y1_test, y1_pred))\n",
    "\n",
    "# other metrics\n",
    "print(\"F1 score: \", f1_score(y1_test, y1_predict, average='macro'))\n",
    "print(\"ROC score: \", roc_auc_score(y1_test, y1_probs, multi_class='ovr'))"
   ]
  },
  {
   "cell_type": "code",
   "execution_count": 55,
   "id": "4a72078f-84f4-4e4c-b687-4851841fd7fb",
   "metadata": {},
   "outputs": [
    {
     "name": "stdout",
     "output_type": "stream",
     "text": [
      "Accuracy: 0.8097525698641459\n",
      "Classification Report:\n",
      "              precision    recall  f1-score   support\n",
      "\n",
      "           0       0.90      0.88      0.89     16484\n",
      "           1       0.00      0.00      0.00       356\n",
      "           2       0.36      0.44      0.40      2519\n",
      "\n",
      "    accuracy                           0.81     19359\n",
      "   macro avg       0.42      0.44      0.43     19359\n",
      "weighted avg       0.81      0.81      0.81     19359\n",
      "\n",
      "F1 score:  0.4709144681965614\n",
      "ROC score:  0.7282371000217136\n"
     ]
    }
   ],
   "source": [
    "naive_bayes_classifier.fit(X_train, y2_train)\n",
    "\n",
    "# Make predictions\n",
    "y2_pred = naive_bayes_classifier.predict(X_test)\n",
    "y2_probs = naive_bayes_classifier.predict_proba(X_test)\n",
    "# Evaluate the model\n",
    "accuracy = accuracy_score(y2_test, y2_pred)\n",
    "print(\"Accuracy:\", accuracy)\n",
    "\n",
    "# Classification report\n",
    "print(\"Classification Report:\")\n",
    "print(classification_report(y2_test, y2_pred))\n",
    "print(\"F1 score: \", f1_score(y2_test, y2_predict, average='macro'))\n",
    "print(\"ROC score: \", roc_auc_score(y2_test, y2_probs, multi_class='ovr'))"
   ]
  },
  {
   "cell_type": "code",
   "execution_count": 57,
   "id": "b4b0f163-71f0-4e3e-bad0-c2225e95f9e4",
   "metadata": {},
   "outputs": [
    {
     "name": "stdout",
     "output_type": "stream",
     "text": [
      "Today: \n",
      " [[18106     1     2]\n",
      " [  336     0     0]\n",
      " [  914     0     0]]\n",
      "Tomorrow: \n",
      " [[16201     8   275]\n",
      " [  309    30    17]\n",
      " [ 1935    13   571]]\n"
     ]
    }
   ],
   "source": [
    "print(\"Today: \\n\", confusion_matrix(y1_test, y1_predict))\n",
    "print(\"Tomorrow: \\n\", confusion_matrix(y2_test, y2_predict))"
   ]
  },
  {
   "cell_type": "markdown",
   "id": "bae9b343-734e-488f-99f1-fc0405eb1ec5",
   "metadata": {},
   "source": [
    "### Clustering and Anomaly Detection"
   ]
  },
  {
   "cell_type": "code",
   "execution_count": 59,
   "id": "77157e56-7dd5-463b-add1-f0d3d8913be5",
   "metadata": {},
   "outputs": [
    {
     "name": "stdout",
     "output_type": "stream",
     "text": [
      "DBSCAN Clustered Data:\n"
     ]
    },
    {
     "data": {
      "text/plain": [
       "Cloud_burst_today_clusters\n",
       "-1    96751\n",
       " 0       41\n",
       "Name: count, dtype: int64"
      ]
     },
     "execution_count": 59,
     "metadata": {},
     "output_type": "execute_result"
    }
   ],
   "source": [
    "from sklearn.cluster import DBSCAN\n",
    "\n",
    "X1 = df[['MinimumTemperature', 'MaximumTemperature', 'Rainfall', 'Evaporation',\n",
    "       'Sunshine', 'WindGustSpeed', 'WindSpeed9am', 'WindSpeed3pm',\n",
    "       'Humidity9am', 'Humidity3pm', 'Pressure9am', 'Pressure3pm', 'Cloud9am',\n",
    "       'Cloud3pm', 'Temperature9am', 'Temperature3pm', 'CloudBurst Today']]\n",
    "# defining the parameters\n",
    "epsilon = 0.6\n",
    "minSamples = 10\n",
    "\n",
    "dbscan = DBSCAN(eps=epsilon, min_samples=minSamples)\n",
    "dbscan.fit(X1)\n",
    "\n",
    "# Add cluster labels to the original DataFrame\n",
    "df['Cloud_burst_today_clusters'] = dbscan.labels_\n",
    "\n",
    "# Display the clustered data\n",
    "print(\"DBSCAN Clustered Data:\")\n",
    "df['Cloud_burst_today_clusters'].value_counts()"
   ]
  },
  {
   "cell_type": "code",
   "execution_count": 60,
   "id": "c61c07de-8425-4281-a485-16c4dd923d14",
   "metadata": {},
   "outputs": [
    {
     "data": {
      "image/png": "[encoded data removed]",
      "text/plain": [
       "<Figure size 1000x700 with 2 Axes>"
      ]
     },
     "metadata": {},
     "output_type": "display_data"
    }
   ],
   "source": [
    "plt.figure(figsize=(10, 7))\n",
    "plt.scatter(df['Rainfall'], df['Humidity3pm'], c=df['Cloud_burst_today_clusters'], cmap='viridis', s=50)\n",
    "plt.xlabel('Rainfall')\n",
    "plt.ylabel('Humidity at 3pm')\n",
    "plt.title('DBSCAN Clustering')\n",
    "plt.colorbar(label='Cluster Label')\n",
    "plt.show()"
   ]
  },
  {
   "cell_type": "code",
   "execution_count": 61,
   "id": "3a73b1c5-52b3-44de-b86d-8a79c790ef47",
   "metadata": {},
   "outputs": [
    {
     "name": "stdout",
     "output_type": "stream",
     "text": [
      "DBSCAN Clustered Data:\n"
     ]
    },
    {
     "data": {
      "text/plain": [
       "Cloud_burst_tomorrow_clusters\n",
       "-1    96755\n",
       " 0       37\n",
       "Name: count, dtype: int64"
      ]
     },
     "execution_count": 61,
     "metadata": {},
     "output_type": "execute_result"
    }
   ],
   "source": [
    "X2 = df[['MinimumTemperature', 'MaximumTemperature', 'Rainfall', 'Evaporation',\n",
    "       'Sunshine', 'WindGustSpeed', 'WindSpeed9am', 'WindSpeed3pm',\n",
    "       'Humidity9am', 'Humidity3pm', 'Pressure9am', 'Pressure3pm', 'Cloud9am',\n",
    "       'Cloud3pm', 'Temperature9am', 'Temperature3pm', 'CloudBurstTomorrow']]\n",
    "# defining the parameters\n",
    "epsilon = 0.6\n",
    "minSamples = 10\n",
    "\n",
    "dbscan = DBSCAN(eps=epsilon, min_samples=minSamples)\n",
    "dbscan.fit(X2)\n",
    "\n",
    "# Add cluster labels to the original DataFrame\n",
    "df['Cloud_burst_tomorrow_clusters'] = dbscan.labels_\n",
    "\n",
    "# Display the clustered data\n",
    "print(\"DBSCAN Clustered Data:\")\n",
    "df['Cloud_burst_tomorrow_clusters'].value_counts()"
   ]
  },
  {
   "cell_type": "code",
   "execution_count": 62,
   "id": "cff31881-8cf1-4411-8549-d3c2756041a4",
   "metadata": {},
   "outputs": [
    {
     "data": {
      "image/png": "[encoded data removed]",
      "text/plain": [
       "<Figure size 1000x700 with 2 Axes>"
      ]
     },
     "metadata": {},
     "output_type": "display_data"
    }
   ],
   "source": [
    "plt.figure(figsize=(10, 7))\n",
    "plt.scatter(df['WindSpeed3pm'],df['WindGustSpeed'], c=df['Cloud_burst_today_clusters'], cmap='viridis', s=50)\n",
    "plt.xlabel('Wind speed 3pm')\n",
    "plt.ylabel('Wind gust speed')\n",
    "plt.title('DBSCAN Clustering')\n",
    "plt.colorbar(label='Cluster Label')\n",
    "plt.show()"
   ]
  },
  {
   "cell_type": "markdown",
   "id": "a2f37627-15f5-4c6c-bd26-7aaa1b30d4fd",
   "metadata": {},
   "source": [
    "### Hyperparameter Tuning"
   ]
  },
  {
   "cell_type": "code",
   "execution_count": 42,
   "id": "db4accac-9b40-4391-ac1a-b6e84202f444",
   "metadata": {},
   "outputs": [
    {
     "name": "stdout",
     "output_type": "stream",
     "text": [
      "The value of C for the best accuracy is  0.01  with the accuracy  0.9354305490986105\n"
     ]
    }
   ],
   "source": [
    "# Logistic Regression\n",
    "from sklearn.model_selection import GridSearchCV # Hyperparameter tuning\n",
    "c = [0.01, 0.1, 1, 10]\n",
    "acc = []\n",
    "for i in c:\n",
    "  lr = LogisticRegression(C=i)\n",
    "  lr.fit(X_train, y1_train)\n",
    "  results = lr.predict(X_test)\n",
    "  acc.append(accuracy_score(y1_test, results))\n",
    "print('The value of C for the best accuracy is ', c[np.argmax(acc)], ' with the accuracy ', np.max(acc))"
   ]
  },
  {
   "cell_type": "code",
   "execution_count": 43,
   "id": "20531537-5008-4332-ad65-422a73e9f524",
   "metadata": {},
   "outputs": [
    {
     "name": "stdout",
     "output_type": "stream",
     "text": [
      "Accuracy with best value of C is  0.9354305490986105\n"
     ]
    }
   ],
   "source": [
    "best_lr = LogisticRegression(C=c[np.argmax(acc)])\n",
    "best_lr.fit(X_train, y1_train)\n",
    "pred1 = best_lr.predict(X_test)\n",
    "print('Accuracy with best value of C is ', accuracy_score(y1_test, pred1))"
   ]
  },
  {
   "cell_type": "code",
   "execution_count": 44,
   "id": "306c18fe-de23-442e-a6e4-b429aeba00e5",
   "metadata": {},
   "outputs": [
    {
     "name": "stdout",
     "output_type": "stream",
     "text": [
      "Accuracy with best value of C is  0.8630611085283331\n"
     ]
    }
   ],
   "source": [
    "best_lr = LogisticRegression(C=c[np.argmax(acc)])\n",
    "best_lr.fit(X_train, y2_train)\n",
    "pred1 = best_lr.predict(X_test)\n",
    "print('Accuracy with best value of C is ', accuracy_score(y2_test, pred1))"
   ]
  },
  {
   "cell_type": "code",
   "execution_count": 45,
   "id": "db1d4a29-84ab-46c9-b3eb-0e8c60ce671f",
   "metadata": {},
   "outputs": [
    {
     "name": "stdout",
     "output_type": "stream",
     "text": [
      "Fitting 5 folds for each of 18 candidates, totalling 90 fits\n",
      "Random forest classifier: \n",
      "Best parameters:  {'criterion': 'entropy', 'max_depth': 6, 'n_estimators': 10}\n",
      "Best estimators:  RandomForestClassifier(criterion='entropy', max_depth=6, n_estimators=10,\n",
      "                       random_state=42)\n",
      "Best score:  0.9354280474086822\n",
      "Accuracy:  0.9354305490986105\n"
     ]
    }
   ],
   "source": [
    "# Random forest classifier - Cloud today\n",
    "params = {\n",
    "    'criterion': ['gini', 'entropy'],\n",
    "    'n_estimators': [10,25,50],\n",
    "    'max_depth': [6,12,18]\n",
    "}\n",
    "#grid search\n",
    "grid_ser = GridSearchCV(estimator=model, param_grid=params, cv=5, n_jobs=-1, verbose=2)\n",
    "grid_ser.fit(X_train, y1_train)\n",
    "print('Random forest classifier: ')\n",
    "print('Best parameters: ', grid_ser.best_params_)\n",
    "print('Best estimators: ', grid_ser.best_estimator_)\n",
    "print('Best score: ', grid_ser.best_score_)\n",
    "print('Accuracy: ', accuracy_score(y1_test, grid_ser.predict(X_test)))"
   ]
  },
  {
   "cell_type": "code",
   "execution_count": 46,
   "id": "a7d5b3d6-230a-4c1b-ba77-1715a0f945c2",
   "metadata": {},
   "outputs": [
    {
     "name": "stdout",
     "output_type": "stream",
     "text": [
      "Fitting 5 folds for each of 18 candidates, totalling 90 fits\n",
      "Random forest classifier: \n",
      "Best parameters:  {'criterion': 'gini', 'max_depth': 18, 'n_estimators': 50}\n",
      "Best estimators:  RandomForestClassifier(max_depth=18, n_estimators=50, random_state=42)\n",
      "Best score:  0.8674208722765828\n",
      "Accuracy:  0.8670902422645798\n"
     ]
    }
   ],
   "source": [
    "# Random forest classifier - Cloud tomorrow\n",
    "grid_ser = GridSearchCV(estimator=model, param_grid=params, cv=5, n_jobs=-1, verbose=2)\n",
    "grid_ser.fit(X_train, y2_train)\n",
    "print('Random forest classifier: ')\n",
    "print('Best parameters: ', grid_ser.best_params_)\n",
    "print('Best estimators: ', grid_ser.best_estimator_)\n",
    "print('Best score: ', grid_ser.best_score_)\n",
    "print('Accuracy: ', accuracy_score(y2_test, grid_ser.predict(X_test)))"
   ]
  },
  {
   "cell_type": "code",
   "execution_count": 47,
   "id": "068dfaed-92e7-48f0-b2d0-853c2e14e29e",
   "metadata": {},
   "outputs": [
    {
     "name": "stdout",
     "output_type": "stream",
     "text": [
      "Accuracy with best parameters is  0.9354305490986105\n"
     ]
    }
   ],
   "source": [
    "best_clf = RandomForestClassifier(max_depth=6, n_estimators=10, random_state=42)\n",
    "best_clf.fit(X_train, y1_train)\n",
    "pred = best_clf.predict(X_test)\n",
    "print('Accuracy with best parameters is ', accuracy_score(y1_test, pred))"
   ]
  },
  {
   "cell_type": "code",
   "execution_count": 48,
   "id": "bf92aa4d-3067-4579-bd7a-76bfd25c7aa5",
   "metadata": {},
   "outputs": [
    {
     "name": "stdout",
     "output_type": "stream",
     "text": [
      "Accuracy with best parameters is  0.8670902422645798\n"
     ]
    }
   ],
   "source": [
    "best_clf = RandomForestClassifier(max_depth=18, n_estimators=50, random_state=42)\n",
    "best_clf.fit(X_train, y2_train)\n",
    "pred = best_clf.predict(X_test)\n",
    "print('Accuracy with best parameters is ', accuracy_score(y2_test, pred))"
   ]
  },
  {
   "cell_type": "code",
   "execution_count": 49,
   "id": "90fa6fc7-ad86-40f2-bb68-deefd354d181",
   "metadata": {},
   "outputs": [
    {
     "name": "stdout",
     "output_type": "stream",
     "text": [
      "Fitting 5 folds for each of 64 candidates, totalling 320 fits\n",
      "Decision tree classifier: \n",
      "Best parameters:  {'max_depth': 5, 'max_leaf_nodes': 3, 'min_samples_split': 2}\n",
      "Best estimators:  DecisionTreeClassifier(max_depth=5, max_leaf_nodes=3, random_state=42)\n",
      "Best score:  0.9354022176269439\n"
     ]
    }
   ],
   "source": [
    "# Decision tree classifier\n",
    "params = {\n",
    "    'max_depth': [5, 10, 15, 20],\n",
    "    'min_samples_split': [2, 4, 6, 8],\n",
    "    'max_leaf_nodes': [3, 7, 12, 15]\n",
    "}\n",
    "grid_cv = GridSearchCV(estimator=dtree, param_grid=params, cv=5, n_jobs=-1, verbose=2)\n",
    "grid_cv.fit(X_train, y1_train)\n",
    "print('Decision tree classifier: ')\n",
    "print('Best parameters: ', grid_cv.best_params_)\n",
    "print('Best estimators: ', grid_cv.best_estimator_)\n",
    "print('Best score: ', grid_cv.best_score_)"
   ]
  },
  {
   "cell_type": "code",
   "execution_count": 50,
   "id": "d34d1d1a-6a34-4724-9bb3-0e8f5a9d9039",
   "metadata": {},
   "outputs": [
    {
     "name": "stdout",
     "output_type": "stream",
     "text": [
      "Accuracy with best parameters:  0.9353788935378894\n"
     ]
    }
   ],
   "source": [
    "best_clf1 = DecisionTreeClassifier(max_depth=5, max_leaf_nodes=3, min_samples_split=2, random_state=42)\n",
    "best_clf1.fit(X_train, y1_train)\n",
    "preds = best_clf1.predict(X_test)\n",
    "print('Accuracy with best parameters: ', accuracy_score(y1_test, preds))"
   ]
  },
  {
   "cell_type": "code",
   "execution_count": 51,
   "id": "d2866c81-d7bc-4837-825a-54971fb26f2f",
   "metadata": {},
   "outputs": [
    {
     "name": "stdout",
     "output_type": "stream",
     "text": [
      "Accuracy with best parameters:  0.8596001859600186\n"
     ]
    }
   ],
   "source": [
    "best_clf1 = DecisionTreeClassifier(max_depth=5, max_leaf_nodes=3, min_samples_split=2, random_state=42)\n",
    "best_clf1.fit(X_train, y2_train)\n",
    "preds = best_clf1.predict(X_test)\n",
    "print('Accuracy with best parameters: ', accuracy_score(y2_test, preds))"
   ]
  },
  {
   "cell_type": "markdown",
   "id": "08e1ca21-9773-4809-8997-9a6ea0afc817",
   "metadata": {},
   "source": [
    "### Fuzzy Association Rule Mining"
   ]
  },
  {
   "cell_type": "code",
   "execution_count": 53,
   "id": "1379575b-8f44-4404-80c8-a9182b263b21",
   "metadata": {},
   "outputs": [
    {
     "name": "stdout",
     "output_type": "stream",
     "text": [
      "Requirement already satisfied: scikit-fuzzy in c:\\users\\nunev\\anaconda3\\lib\\site-packages (0.5.0)\n"
     ]
    }
   ],
   "source": [
    "!pip install scikit-fuzzy"
   ]
  },
  {
   "cell_type": "code",
   "execution_count": 54,
   "id": "693cf1a1-b3f7-4dc5-95ac-dfa315e52612",
   "metadata": {},
   "outputs": [
    {
     "data": {
      "text/plain": [
       "Index(['Date', 'Location', 'MinimumTemperature', 'MaximumTemperature',\n",
       "       'Rainfall', 'Evaporation', 'Sunshine', 'WindGustDirection',\n",
       "       'WindGustSpeed', 'WindDirection9am', 'WindDirection3pm', 'WindSpeed9am',\n",
       "       'WindSpeed3pm', 'Humidity9am', 'Humidity3pm', 'Pressure9am',\n",
       "       'Pressure3pm', 'Cloud9am', 'Cloud3pm', 'Temperature9am',\n",
       "       'Temperature3pm', 'CloudBurst Today', 'CloudBurstTomorrow'],\n",
       "      dtype='object')"
      ]
     },
     "execution_count": 54,
     "metadata": {},
     "output_type": "execute_result"
    }
   ],
   "source": [
    "df1.columns"
   ]
  },
  {
   "cell_type": "code",
   "execution_count": 55,
   "id": "2c756c57-23de-4112-aaab-c21f5f37145c",
   "metadata": {},
   "outputs": [
    {
     "data": {
      "text/html": [
       "<div>\n",
       "<style scoped>\n",
       "    .dataframe tbody tr th:only-of-type {\n",
       "        vertical-align: middle;\n",
       "    }\n",
       "\n",
       "    .dataframe tbody tr th {\n",
       "        vertical-align: top;\n",
       "    }\n",
       "\n",
       "    .dataframe thead th {\n",
       "        text-align: right;\n",
       "    }\n",
       "</style>\n",
       "<table border=\"1\" class=\"dataframe\">\n",
       "  <thead>\n",
       "    <tr style=\"text-align: right;\">\n",
       "      <th></th>\n",
       "      <th>MinimumTemperature</th>\n",
       "      <th>MaximumTemperature</th>\n",
       "      <th>Rainfall</th>\n",
       "      <th>Evaporation</th>\n",
       "      <th>Sunshine</th>\n",
       "      <th>WindGustSpeed</th>\n",
       "      <th>WindSpeed9am</th>\n",
       "      <th>WindSpeed3pm</th>\n",
       "      <th>Humidity9am</th>\n",
       "      <th>Humidity3pm</th>\n",
       "      <th>Pressure9am</th>\n",
       "      <th>Pressure3pm</th>\n",
       "      <th>Cloud9am</th>\n",
       "      <th>Cloud3pm</th>\n",
       "      <th>Temperature9am</th>\n",
       "      <th>Temperature3pm</th>\n",
       "    </tr>\n",
       "  </thead>\n",
       "  <tbody>\n",
       "    <tr>\n",
       "      <th>count</th>\n",
       "      <td>96792.000000</td>\n",
       "      <td>96792.000000</td>\n",
       "      <td>96792.000000</td>\n",
       "      <td>96792.000000</td>\n",
       "      <td>96792.000000</td>\n",
       "      <td>96792.000000</td>\n",
       "      <td>96792.000000</td>\n",
       "      <td>96792.000000</td>\n",
       "      <td>96792.000000</td>\n",
       "      <td>96792.000000</td>\n",
       "      <td>96792.000000</td>\n",
       "      <td>96792.000000</td>\n",
       "      <td>96792.000000</td>\n",
       "      <td>96792.000000</td>\n",
       "      <td>96792.000000</td>\n",
       "      <td>96792.000000</td>\n",
       "    </tr>\n",
       "    <tr>\n",
       "      <th>mean</th>\n",
       "      <td>11.670258</td>\n",
       "      <td>23.838949</td>\n",
       "      <td>0.145245</td>\n",
       "      <td>5.049841</td>\n",
       "      <td>9.056498</td>\n",
       "      <td>36.773142</td>\n",
       "      <td>12.598694</td>\n",
       "      <td>17.537071</td>\n",
       "      <td>67.208319</td>\n",
       "      <td>47.680846</td>\n",
       "      <td>1018.986949</td>\n",
       "      <td>1016.342150</td>\n",
       "      <td>3.302031</td>\n",
       "      <td>3.440061</td>\n",
       "      <td>16.981507</td>\n",
       "      <td>22.374793</td>\n",
       "    </tr>\n",
       "    <tr>\n",
       "      <th>std</th>\n",
       "      <td>6.339668</td>\n",
       "      <td>6.460868</td>\n",
       "      <td>0.376626</td>\n",
       "      <td>2.253331</td>\n",
       "      <td>1.957086</td>\n",
       "      <td>10.257901</td>\n",
       "      <td>7.767430</td>\n",
       "      <td>7.616850</td>\n",
       "      <td>16.948935</td>\n",
       "      <td>17.754355</td>\n",
       "      <td>6.001973</td>\n",
       "      <td>6.034848</td>\n",
       "      <td>2.414673</td>\n",
       "      <td>2.233503</td>\n",
       "      <td>6.226649</td>\n",
       "      <td>6.226103</td>\n",
       "    </tr>\n",
       "    <tr>\n",
       "      <th>min</th>\n",
       "      <td>-6.200000</td>\n",
       "      <td>2.900000</td>\n",
       "      <td>0.000000</td>\n",
       "      <td>0.000000</td>\n",
       "      <td>3.460000</td>\n",
       "      <td>9.000000</td>\n",
       "      <td>0.000000</td>\n",
       "      <td>0.000000</td>\n",
       "      <td>22.000000</td>\n",
       "      <td>1.000000</td>\n",
       "      <td>1002.400000</td>\n",
       "      <td>999.500000</td>\n",
       "      <td>0.000000</td>\n",
       "      <td>0.000000</td>\n",
       "      <td>-1.000000</td>\n",
       "      <td>4.400000</td>\n",
       "    </tr>\n",
       "    <tr>\n",
       "      <th>25%</th>\n",
       "      <td>7.100000</td>\n",
       "      <td>19.000000</td>\n",
       "      <td>0.000000</td>\n",
       "      <td>3.480000</td>\n",
       "      <td>7.900000</td>\n",
       "      <td>30.000000</td>\n",
       "      <td>7.000000</td>\n",
       "      <td>11.000000</td>\n",
       "      <td>56.000000</td>\n",
       "      <td>35.000000</td>\n",
       "      <td>1014.900000</td>\n",
       "      <td>1012.180000</td>\n",
       "      <td>1.000000</td>\n",
       "      <td>1.600000</td>\n",
       "      <td>12.500000</td>\n",
       "      <td>17.800000</td>\n",
       "    </tr>\n",
       "    <tr>\n",
       "      <th>50%</th>\n",
       "      <td>11.500000</td>\n",
       "      <td>23.500000</td>\n",
       "      <td>0.000000</td>\n",
       "      <td>4.840000</td>\n",
       "      <td>9.300000</td>\n",
       "      <td>35.000000</td>\n",
       "      <td>11.000000</td>\n",
       "      <td>17.000000</td>\n",
       "      <td>67.000000</td>\n",
       "      <td>48.000000</td>\n",
       "      <td>1018.800000</td>\n",
       "      <td>1016.300000</td>\n",
       "      <td>2.800000</td>\n",
       "      <td>3.000000</td>\n",
       "      <td>16.900000</td>\n",
       "      <td>22.000000</td>\n",
       "    </tr>\n",
       "    <tr>\n",
       "      <th>75%</th>\n",
       "      <td>16.200000</td>\n",
       "      <td>28.500000</td>\n",
       "      <td>0.000000</td>\n",
       "      <td>6.400000</td>\n",
       "      <td>10.300000</td>\n",
       "      <td>43.000000</td>\n",
       "      <td>17.800000</td>\n",
       "      <td>22.000000</td>\n",
       "      <td>79.000000</td>\n",
       "      <td>60.000000</td>\n",
       "      <td>1023.040000</td>\n",
       "      <td>1020.500000</td>\n",
       "      <td>5.000000</td>\n",
       "      <td>5.000000</td>\n",
       "      <td>21.500000</td>\n",
       "      <td>26.700000</td>\n",
       "    </tr>\n",
       "    <tr>\n",
       "      <th>max</th>\n",
       "      <td>30.200000</td>\n",
       "      <td>43.500000</td>\n",
       "      <td>2.000000</td>\n",
       "      <td>11.600000</td>\n",
       "      <td>14.300000</td>\n",
       "      <td>65.000000</td>\n",
       "      <td>37.000000</td>\n",
       "      <td>37.000000</td>\n",
       "      <td>100.000000</td>\n",
       "      <td>97.000000</td>\n",
       "      <td>1035.500000</td>\n",
       "      <td>1033.100000</td>\n",
       "      <td>9.000000</td>\n",
       "      <td>9.000000</td>\n",
       "      <td>35.000000</td>\n",
       "      <td>40.100000</td>\n",
       "    </tr>\n",
       "  </tbody>\n",
       "</table>\n",
       "</div>"
      ],
      "text/plain": [
       "       MinimumTemperature  MaximumTemperature      Rainfall   Evaporation  \\\n",
       "count        96792.000000        96792.000000  96792.000000  96792.000000   \n",
       "mean            11.670258           23.838949      0.145245      5.049841   \n",
       "std              6.339668            6.460868      0.376626      2.253331   \n",
       "min             -6.200000            2.900000      0.000000      0.000000   \n",
       "25%              7.100000           19.000000      0.000000      3.480000   \n",
       "50%             11.500000           23.500000      0.000000      4.840000   \n",
       "75%             16.200000           28.500000      0.000000      6.400000   \n",
       "max             30.200000           43.500000      2.000000     11.600000   \n",
       "\n",
       "           Sunshine  WindGustSpeed  WindSpeed9am  WindSpeed3pm   Humidity9am  \\\n",
       "count  96792.000000   96792.000000  96792.000000  96792.000000  96792.000000   \n",
       "mean       9.056498      36.773142     12.598694     17.537071     67.208319   \n",
       "std        1.957086      10.257901      7.767430      7.616850     16.948935   \n",
       "min        3.460000       9.000000      0.000000      0.000000     22.000000   \n",
       "25%        7.900000      30.000000      7.000000     11.000000     56.000000   \n",
       "50%        9.300000      35.000000     11.000000     17.000000     67.000000   \n",
       "75%       10.300000      43.000000     17.800000     22.000000     79.000000   \n",
       "max       14.300000      65.000000     37.000000     37.000000    100.000000   \n",
       "\n",
       "        Humidity3pm   Pressure9am   Pressure3pm      Cloud9am      Cloud3pm  \\\n",
       "count  96792.000000  96792.000000  96792.000000  96792.000000  96792.000000   \n",
       "mean      47.680846   1018.986949   1016.342150      3.302031      3.440061   \n",
       "std       17.754355      6.001973      6.034848      2.414673      2.233503   \n",
       "min        1.000000   1002.400000    999.500000      0.000000      0.000000   \n",
       "25%       35.000000   1014.900000   1012.180000      1.000000      1.600000   \n",
       "50%       48.000000   1018.800000   1016.300000      2.800000      3.000000   \n",
       "75%       60.000000   1023.040000   1020.500000      5.000000      5.000000   \n",
       "max       97.000000   1035.500000   1033.100000      9.000000      9.000000   \n",
       "\n",
       "       Temperature9am  Temperature3pm  \n",
       "count    96792.000000    96792.000000  \n",
       "mean        16.981507       22.374793  \n",
       "std          6.226649        6.226103  \n",
       "min         -1.000000        4.400000  \n",
       "25%         12.500000       17.800000  \n",
       "50%         16.900000       22.000000  \n",
       "75%         21.500000       26.700000  \n",
       "max         35.000000       40.100000  "
      ]
     },
     "execution_count": 55,
     "metadata": {},
     "output_type": "execute_result"
    }
   ],
   "source": [
    "df1.describe()"
   ]
  },
  {
   "cell_type": "code",
   "execution_count": 56,
   "id": "dafe8eef-0675-4331-b89d-27be7ae55be0",
   "metadata": {},
   "outputs": [],
   "source": [
    "numCols = ['MinimumTemperature', 'MaximumTemperature', 'Rainfall', 'Evaporation',\n",
    "       'Sunshine', 'WindGustSpeed', 'WindSpeed9am', 'WindSpeed3pm',\n",
    "       'Humidity9am', 'Humidity3pm', 'Pressure9am', 'Pressure3pm', 'Cloud9am',\n",
    "       'Cloud3pm', 'Temperature9am', 'Temperature3pm']"
   ]
  },
  {
   "cell_type": "code",
   "execution_count": 57,
   "id": "85b6eb30-357a-456c-914e-7a8772cf7b54",
   "metadata": {},
   "outputs": [],
   "source": [
    "import skfuzzy as fuzz\n",
    "# for every column\n",
    "for col in numCols:\n",
    "    #item range\n",
    "    item_range = np.linspace(np.min(df1[col]), np.max(df1[col]), df1.shape[0])\n",
    "    q1, q2, q3 = np.percentile(df1[col], [25,50,75])\n",
    "    df1[f'{col}_low'] = fuzz.trimf(item_range, [np.min(df1[col]), q1, q2])\n",
    "    df1[f'{col}_mid'] = fuzz.trimf(item_range, [q1, q2, q3])\n",
    "    df1[f'{col}_high'] = fuzz.trimf(item_range, [q2, q3, np.max(df1[col])])\n",
    "    # fuzzify the dataset\n",
    "    df1[f'{col}_Low'] = fuzz.interp_membership(item_range, df1[f'{col}_low'], df1[col])\n",
    "    df1[f'{col}_Medium'] = fuzz.interp_membership(item_range, df1[f'{col}_mid'], df1[col])\n",
    "    df1[f'{col}_High'] = fuzz.interp_membership(item_range, df1[f'{col}_high'], df1[col])"
   ]
  },
  {
   "cell_type": "code",
   "execution_count": 58,
   "id": "3346daa8-892c-45d8-b312-eeffbef107fd",
   "metadata": {},
   "outputs": [
    {
     "name": "stderr",
     "output_type": "stream",
     "text": [
      "C:\\Users\\nunev\\AppData\\Local\\Temp\\ipykernel_3224\\1572395971.py:5: PerformanceWarning: DataFrame is highly fragmented.  This is usually the result of calling `frame.insert` many times, which has poor performance.  Consider joining all columns at once using pd.concat(axis=1) instead. To get a de-fragmented frame, use `newframe = frame.copy()`\n",
      "  df1[f'{col}_High_Bin'] = np.where(df1[f'{col}_High'] > 0.5, 1, 0)\n"
     ]
    }
   ],
   "source": [
    "for col in numCols: \n",
    "    # Binarize the fuzzy membership values\n",
    "    df1[f'{col}_Low_Bin'] = np.where(df1[f'{col}_Low'] > 0.5, 1, 0)\n",
    "    df1[f'{col}_Medium_Bin'] = np.where(df1[f'{col}_Medium'] > 0.5, 1, 0)\n",
    "    df1[f'{col}_High_Bin'] = np.where(df1[f'{col}_High'] > 0.5, 1, 0)\n",
    "\n",
    "    df1.drop([f'{col}_low',f'{col}_mid',f'{col}_high', f'{col}_Low', f'{col}_Medium', f'{col}_High'], axis=1, inplace=True)"
   ]
  },
  {
   "cell_type": "code",
   "execution_count": 59,
   "id": "55b8819b-6fc1-4f8b-b1de-61bfbb6925f3",
   "metadata": {},
   "outputs": [
    {
     "data": {
      "text/html": [
       "<div>\n",
       "<style scoped>\n",
       "    .dataframe tbody tr th:only-of-type {\n",
       "        vertical-align: middle;\n",
       "    }\n",
       "\n",
       "    .dataframe tbody tr th {\n",
       "        vertical-align: top;\n",
       "    }\n",
       "\n",
       "    .dataframe thead th {\n",
       "        text-align: right;\n",
       "    }\n",
       "</style>\n",
       "<table border=\"1\" class=\"dataframe\">\n",
       "  <thead>\n",
       "    <tr style=\"text-align: right;\">\n",
       "      <th></th>\n",
       "      <th>Date</th>\n",
       "      <th>Location</th>\n",
       "      <th>WindGustDirection</th>\n",
       "      <th>WindDirection9am</th>\n",
       "      <th>WindDirection3pm</th>\n",
       "      <th>CloudBurst Today</th>\n",
       "      <th>CloudBurstTomorrow</th>\n",
       "      <th>MinimumTemperature_Low_Bin</th>\n",
       "      <th>MinimumTemperature_Medium_Bin</th>\n",
       "      <th>MinimumTemperature_High_Bin</th>\n",
       "      <th>...</th>\n",
       "      <th>Cloud9am_High_Bin</th>\n",
       "      <th>Cloud3pm_Low_Bin</th>\n",
       "      <th>Cloud3pm_Medium_Bin</th>\n",
       "      <th>Cloud3pm_High_Bin</th>\n",
       "      <th>Temperature9am_Low_Bin</th>\n",
       "      <th>Temperature9am_Medium_Bin</th>\n",
       "      <th>Temperature9am_High_Bin</th>\n",
       "      <th>Temperature3pm_Low_Bin</th>\n",
       "      <th>Temperature3pm_Medium_Bin</th>\n",
       "      <th>Temperature3pm_High_Bin</th>\n",
       "    </tr>\n",
       "  </thead>\n",
       "  <tbody>\n",
       "    <tr>\n",
       "      <th>0</th>\n",
       "      <td>2008-12-01</td>\n",
       "      <td>Albury</td>\n",
       "      <td>W</td>\n",
       "      <td>W</td>\n",
       "      <td>WNW</td>\n",
       "      <td>No</td>\n",
       "      <td>No</td>\n",
       "      <td>0</td>\n",
       "      <td>1</td>\n",
       "      <td>0</td>\n",
       "      <td>...</td>\n",
       "      <td>0</td>\n",
       "      <td>0</td>\n",
       "      <td>0</td>\n",
       "      <td>1</td>\n",
       "      <td>0</td>\n",
       "      <td>1</td>\n",
       "      <td>0</td>\n",
       "      <td>0</td>\n",
       "      <td>1</td>\n",
       "      <td>0</td>\n",
       "    </tr>\n",
       "    <tr>\n",
       "      <th>1</th>\n",
       "      <td>2008-12-02</td>\n",
       "      <td>Albury</td>\n",
       "      <td>WNW</td>\n",
       "      <td>NNW</td>\n",
       "      <td>WSW</td>\n",
       "      <td>No</td>\n",
       "      <td>No</td>\n",
       "      <td>1</td>\n",
       "      <td>0</td>\n",
       "      <td>0</td>\n",
       "      <td>...</td>\n",
       "      <td>0</td>\n",
       "      <td>1</td>\n",
       "      <td>0</td>\n",
       "      <td>0</td>\n",
       "      <td>0</td>\n",
       "      <td>1</td>\n",
       "      <td>0</td>\n",
       "      <td>0</td>\n",
       "      <td>1</td>\n",
       "      <td>0</td>\n",
       "    </tr>\n",
       "    <tr>\n",
       "      <th>2</th>\n",
       "      <td>2008-12-03</td>\n",
       "      <td>Albury</td>\n",
       "      <td>WSW</td>\n",
       "      <td>W</td>\n",
       "      <td>WSW</td>\n",
       "      <td>No</td>\n",
       "      <td>No</td>\n",
       "      <td>0</td>\n",
       "      <td>1</td>\n",
       "      <td>0</td>\n",
       "      <td>...</td>\n",
       "      <td>0</td>\n",
       "      <td>1</td>\n",
       "      <td>0</td>\n",
       "      <td>0</td>\n",
       "      <td>0</td>\n",
       "      <td>0</td>\n",
       "      <td>1</td>\n",
       "      <td>0</td>\n",
       "      <td>1</td>\n",
       "      <td>0</td>\n",
       "    </tr>\n",
       "    <tr>\n",
       "      <th>3</th>\n",
       "      <td>2008-12-04</td>\n",
       "      <td>Albury</td>\n",
       "      <td>NE</td>\n",
       "      <td>SE</td>\n",
       "      <td>E</td>\n",
       "      <td>No</td>\n",
       "      <td>No</td>\n",
       "      <td>1</td>\n",
       "      <td>0</td>\n",
       "      <td>0</td>\n",
       "      <td>...</td>\n",
       "      <td>0</td>\n",
       "      <td>1</td>\n",
       "      <td>0</td>\n",
       "      <td>0</td>\n",
       "      <td>0</td>\n",
       "      <td>1</td>\n",
       "      <td>0</td>\n",
       "      <td>0</td>\n",
       "      <td>0</td>\n",
       "      <td>1</td>\n",
       "    </tr>\n",
       "    <tr>\n",
       "      <th>4</th>\n",
       "      <td>2008-12-05</td>\n",
       "      <td>Albury</td>\n",
       "      <td>W</td>\n",
       "      <td>ENE</td>\n",
       "      <td>NW</td>\n",
       "      <td>No</td>\n",
       "      <td>No</td>\n",
       "      <td>0</td>\n",
       "      <td>0</td>\n",
       "      <td>1</td>\n",
       "      <td>...</td>\n",
       "      <td>0</td>\n",
       "      <td>0</td>\n",
       "      <td>0</td>\n",
       "      <td>0</td>\n",
       "      <td>0</td>\n",
       "      <td>1</td>\n",
       "      <td>0</td>\n",
       "      <td>0</td>\n",
       "      <td>0</td>\n",
       "      <td>1</td>\n",
       "    </tr>\n",
       "  </tbody>\n",
       "</table>\n",
       "<p>5 rows × 55 columns</p>\n",
       "</div>"
      ],
      "text/plain": [
       "         Date Location WindGustDirection WindDirection9am WindDirection3pm  \\\n",
       "0  2008-12-01   Albury                 W                W              WNW   \n",
       "1  2008-12-02   Albury               WNW              NNW              WSW   \n",
       "2  2008-12-03   Albury               WSW                W              WSW   \n",
       "3  2008-12-04   Albury                NE               SE                E   \n",
       "4  2008-12-05   Albury                 W              ENE               NW   \n",
       "\n",
       "  CloudBurst Today CloudBurstTomorrow  MinimumTemperature_Low_Bin  \\\n",
       "0               No                 No                           0   \n",
       "1               No                 No                           1   \n",
       "2               No                 No                           0   \n",
       "3               No                 No                           1   \n",
       "4               No                 No                           0   \n",
       "\n",
       "   MinimumTemperature_Medium_Bin  MinimumTemperature_High_Bin  ...  \\\n",
       "0                              1                            0  ...   \n",
       "1                              0                            0  ...   \n",
       "2                              1                            0  ...   \n",
       "3                              0                            0  ...   \n",
       "4                              0                            1  ...   \n",
       "\n",
       "   Cloud9am_High_Bin  Cloud3pm_Low_Bin  Cloud3pm_Medium_Bin  \\\n",
       "0                  0                 0                    0   \n",
       "1                  0                 1                    0   \n",
       "2                  0                 1                    0   \n",
       "3                  0                 1                    0   \n",
       "4                  0                 0                    0   \n",
       "\n",
       "   Cloud3pm_High_Bin  Temperature9am_Low_Bin  Temperature9am_Medium_Bin  \\\n",
       "0                  1                       0                          1   \n",
       "1                  0                       0                          1   \n",
       "2                  0                       0                          0   \n",
       "3                  0                       0                          1   \n",
       "4                  0                       0                          1   \n",
       "\n",
       "   Temperature9am_High_Bin  Temperature3pm_Low_Bin  Temperature3pm_Medium_Bin  \\\n",
       "0                        0                       0                          1   \n",
       "1                        0                       0                          1   \n",
       "2                        1                       0                          1   \n",
       "3                        0                       0                          0   \n",
       "4                        0                       0                          0   \n",
       "\n",
       "   Temperature3pm_High_Bin  \n",
       "0                        0  \n",
       "1                        0  \n",
       "2                        0  \n",
       "3                        1  \n",
       "4                        1  \n",
       "\n",
       "[5 rows x 55 columns]"
      ]
     },
     "execution_count": 59,
     "metadata": {},
     "output_type": "execute_result"
    }
   ],
   "source": [
    "df_fuzzy = df1.drop(numCols, axis=1)\n",
    "df_fuzzy.head()"
   ]
  },
  {
   "cell_type": "code",
   "execution_count": 60,
   "id": "3fca1e4d-94a4-453e-923e-4c7e974e6237",
   "metadata": {},
   "outputs": [],
   "source": [
    "# df_fuzzy.columns\n",
    "# 55 columns"
   ]
  },
  {
   "cell_type": "code",
   "execution_count": 62,
   "id": "bd91fa2d-82f4-4476-8e86-ff4f911a0bb7",
   "metadata": {},
   "outputs": [],
   "source": [
    "catCols = ['Date', 'Location', 'WindGustDirection','WindDirection9am', 'WindDirection3pm', 'CloudBurst Today', 'CloudBurstTomorrow']\n",
    "\n",
    "# One-hot encoding the 'Weather Type' column\n",
    "df1_encoded = pd.get_dummies(df_fuzzy, columns=catCols, drop_first=True, dtype=int)\n",
    "# Display the result\n",
    "# print(df1_encoded.head())"
   ]
  },
  {
   "cell_type": "code",
   "execution_count": 63,
   "id": "e6336a52-d782-4110-925b-6cd12e329a2f",
   "metadata": {},
   "outputs": [
    {
     "name": "stderr",
     "output_type": "stream",
     "text": [
      "C:\\Users\\nunev\\anaconda3\\Lib\\site-packages\\mlxtend\\frequent_patterns\\fpcommon.py:109: DeprecationWarning: DataFrames with non-bool types result in worse computationalperformance and their support might be discontinued in the future.Please use a DataFrame with bool type\n",
      "  warnings.warn(\n"
     ]
    },
    {
     "name": "stdout",
     "output_type": "stream",
     "text": [
      "                                           antecedents  \\\n",
      "0                         (MinimumTemperature_Low_Bin)   \n",
      "1                         (MinimumTemperature_Low_Bin)   \n",
      "2                         (MinimumTemperature_Low_Bin)   \n",
      "3                             (Temperature9am_Low_Bin)   \n",
      "4                         (MinimumTemperature_Low_Bin)   \n",
      "..                                                 ...   \n",
      "389     (Temperature3pm_High_Bin, Rainfall_Medium_Bin)   \n",
      "390   (MaximumTemperature_High_Bin, Rainfall_High_Bin)   \n",
      "391  (MaximumTemperature_High_Bin, Rainfall_Medium_...   \n",
      "392                          (Temperature3pm_High_Bin)   \n",
      "393                      (MaximumTemperature_High_Bin)   \n",
      "\n",
      "                                           consequents   support  confidence  \\\n",
      "0                                   (Rainfall_Low_Bin)  0.255476    0.760791   \n",
      "1                                (Rainfall_Medium_Bin)  0.255476    0.760791   \n",
      "2                                  (Rainfall_High_Bin)  0.314334    0.936067   \n",
      "3                         (MinimumTemperature_Low_Bin)  0.256302    0.764193   \n",
      "4                             (Temperature9am_Low_Bin)  0.256302    0.763253   \n",
      "..                                                 ...       ...         ...   \n",
      "389  (MaximumTemperature_High_Bin, Rainfall_Low_Bin...  0.258244    0.908979   \n",
      "390  (Rainfall_Low_Bin, Temperature3pm_High_Bin, Ra...  0.258244    0.809718   \n",
      "391  (Rainfall_Low_Bin, Rainfall_High_Bin, Temperat...  0.258244    0.888273   \n",
      "392  (MaximumTemperature_High_Bin, Rainfall_Low_Bin...  0.258244    0.797499   \n",
      "393  (Rainfall_Low_Bin, Rainfall_High_Bin, Temperat...  0.258244    0.781076   \n",
      "\n",
      "         lift  \n",
      "0    0.968176  \n",
      "1    0.968176  \n",
      "2    0.999171  \n",
      "3    2.275722  \n",
      "4    2.275722  \n",
      "..        ...  \n",
      "389  3.126576  \n",
      "390  2.850076  \n",
      "391  3.126576  \n",
      "392  2.743123  \n",
      "393  2.749261  \n",
      "\n",
      "[394 rows x 5 columns]\n"
     ]
    }
   ],
   "source": [
    "from mlxtend.frequent_patterns import apriori, association_rules\n",
    "\n",
    "# Prepare the dataset for Apriori by keeping only the binary columns\n",
    "df_binary = df1_encoded\n",
    "\n",
    "# Apply Apriori algorithm to find frequent itemsets\n",
    "frequent_itemsets = apriori(df_binary, min_support=0.25, use_colnames=True)\n",
    "\n",
    "# Generate association rules from the frequent itemsets\n",
    "rules = association_rules(frequent_itemsets, metric=\"confidence\", min_threshold=0.7)\n",
    "\n",
    "# Display the generated rules\n",
    "print(rules[['antecedents', 'consequents', 'support', 'confidence', 'lift']])\n"
   ]
  },
  {
   "cell_type": "code",
   "execution_count": 66,
   "id": "8e521988-eed8-4da9-9273-3fe7a49b186f",
   "metadata": {},
   "outputs": [
    {
     "data": {
      "text/html": [
       "<div>\n",
       "<style scoped>\n",
       "    .dataframe tbody tr th:only-of-type {\n",
       "        vertical-align: middle;\n",
       "    }\n",
       "\n",
       "    .dataframe tbody tr th {\n",
       "        vertical-align: top;\n",
       "    }\n",
       "\n",
       "    .dataframe thead th {\n",
       "        text-align: right;\n",
       "    }\n",
       "</style>\n",
       "<table border=\"1\" class=\"dataframe\">\n",
       "  <thead>\n",
       "    <tr style=\"text-align: right;\">\n",
       "      <th></th>\n",
       "      <th>antecedents</th>\n",
       "      <th>consequents</th>\n",
       "      <th>antecedent support</th>\n",
       "      <th>consequent support</th>\n",
       "      <th>support</th>\n",
       "      <th>confidence</th>\n",
       "      <th>lift</th>\n",
       "      <th>leverage</th>\n",
       "      <th>conviction</th>\n",
       "      <th>zhangs_metric</th>\n",
       "    </tr>\n",
       "  </thead>\n",
       "  <tbody>\n",
       "    <tr>\n",
       "      <th>20</th>\n",
       "      <td>(Rainfall_Low_Bin)</td>\n",
       "      <td>(Rainfall_Medium_Bin)</td>\n",
       "      <td>0.785798</td>\n",
       "      <td>0.785798</td>\n",
       "      <td>0.785798</td>\n",
       "      <td>1.0</td>\n",
       "      <td>1.272591</td>\n",
       "      <td>0.168319</td>\n",
       "      <td>inf</td>\n",
       "      <td>1.000000</td>\n",
       "    </tr>\n",
       "    <tr>\n",
       "      <th>21</th>\n",
       "      <td>(Rainfall_Medium_Bin)</td>\n",
       "      <td>(Rainfall_Low_Bin)</td>\n",
       "      <td>0.785798</td>\n",
       "      <td>0.785798</td>\n",
       "      <td>0.785798</td>\n",
       "      <td>1.0</td>\n",
       "      <td>1.272591</td>\n",
       "      <td>0.168319</td>\n",
       "      <td>inf</td>\n",
       "      <td>1.000000</td>\n",
       "    </tr>\n",
       "    <tr>\n",
       "      <th>22</th>\n",
       "      <td>(Rainfall_Low_Bin)</td>\n",
       "      <td>(Rainfall_High_Bin)</td>\n",
       "      <td>0.785798</td>\n",
       "      <td>0.936844</td>\n",
       "      <td>0.785798</td>\n",
       "      <td>1.0</td>\n",
       "      <td>1.067414</td>\n",
       "      <td>0.049628</td>\n",
       "      <td>inf</td>\n",
       "      <td>0.294844</td>\n",
       "    </tr>\n",
       "    <tr>\n",
       "      <th>36</th>\n",
       "      <td>(Rainfall_Medium_Bin)</td>\n",
       "      <td>(Rainfall_High_Bin)</td>\n",
       "      <td>0.785798</td>\n",
       "      <td>0.936844</td>\n",
       "      <td>0.785798</td>\n",
       "      <td>1.0</td>\n",
       "      <td>1.067414</td>\n",
       "      <td>0.049628</td>\n",
       "      <td>inf</td>\n",
       "      <td>0.294844</td>\n",
       "    </tr>\n",
       "    <tr>\n",
       "      <th>78</th>\n",
       "      <td>(MinimumTemperature_Low_Bin, Rainfall_Low_Bin)</td>\n",
       "      <td>(Rainfall_Medium_Bin)</td>\n",
       "      <td>0.255476</td>\n",
       "      <td>0.785798</td>\n",
       "      <td>0.255476</td>\n",
       "      <td>1.0</td>\n",
       "      <td>1.272591</td>\n",
       "      <td>0.054723</td>\n",
       "      <td>inf</td>\n",
       "      <td>0.287703</td>\n",
       "    </tr>\n",
       "    <tr>\n",
       "      <th>...</th>\n",
       "      <td>...</td>\n",
       "      <td>...</td>\n",
       "      <td>...</td>\n",
       "      <td>...</td>\n",
       "      <td>...</td>\n",
       "      <td>...</td>\n",
       "      <td>...</td>\n",
       "      <td>...</td>\n",
       "      <td>...</td>\n",
       "      <td>...</td>\n",
       "    </tr>\n",
       "    <tr>\n",
       "      <th>371</th>\n",
       "      <td>(MaximumTemperature_High_Bin, Rainfall_Low_Bin...</td>\n",
       "      <td>(Rainfall_Medium_Bin)</td>\n",
       "      <td>0.258244</td>\n",
       "      <td>0.785798</td>\n",
       "      <td>0.258244</td>\n",
       "      <td>1.0</td>\n",
       "      <td>1.272591</td>\n",
       "      <td>0.055316</td>\n",
       "      <td>inf</td>\n",
       "      <td>0.288777</td>\n",
       "    </tr>\n",
       "    <tr>\n",
       "      <th>372</th>\n",
       "      <td>(MaximumTemperature_High_Bin, Rainfall_Low_Bin...</td>\n",
       "      <td>(Rainfall_High_Bin)</td>\n",
       "      <td>0.258244</td>\n",
       "      <td>0.936844</td>\n",
       "      <td>0.258244</td>\n",
       "      <td>1.0</td>\n",
       "      <td>1.067414</td>\n",
       "      <td>0.016310</td>\n",
       "      <td>inf</td>\n",
       "      <td>0.085144</td>\n",
       "    </tr>\n",
       "    <tr>\n",
       "      <th>375</th>\n",
       "      <td>(MaximumTemperature_High_Bin, Rainfall_High_Bi...</td>\n",
       "      <td>(Rainfall_Low_Bin)</td>\n",
       "      <td>0.258244</td>\n",
       "      <td>0.785798</td>\n",
       "      <td>0.258244</td>\n",
       "      <td>1.0</td>\n",
       "      <td>1.272591</td>\n",
       "      <td>0.055316</td>\n",
       "      <td>inf</td>\n",
       "      <td>0.288777</td>\n",
       "    </tr>\n",
       "    <tr>\n",
       "      <th>376</th>\n",
       "      <td>(MaximumTemperature_High_Bin, Rainfall_Low_Bin...</td>\n",
       "      <td>(Rainfall_High_Bin, Rainfall_Medium_Bin)</td>\n",
       "      <td>0.258244</td>\n",
       "      <td>0.785798</td>\n",
       "      <td>0.258244</td>\n",
       "      <td>1.0</td>\n",
       "      <td>1.272591</td>\n",
       "      <td>0.055316</td>\n",
       "      <td>inf</td>\n",
       "      <td>0.288777</td>\n",
       "    </tr>\n",
       "    <tr>\n",
       "      <th>382</th>\n",
       "      <td>(MaximumTemperature_High_Bin, Temperature3pm_H...</td>\n",
       "      <td>(Rainfall_Low_Bin, Rainfall_High_Bin)</td>\n",
       "      <td>0.258244</td>\n",
       "      <td>0.785798</td>\n",
       "      <td>0.258244</td>\n",
       "      <td>1.0</td>\n",
       "      <td>1.272591</td>\n",
       "      <td>0.055316</td>\n",
       "      <td>inf</td>\n",
       "      <td>0.288777</td>\n",
       "    </tr>\n",
       "  </tbody>\n",
       "</table>\n",
       "<p>144 rows × 10 columns</p>\n",
       "</div>"
      ],
      "text/plain": [
       "                                           antecedents  \\\n",
       "20                                  (Rainfall_Low_Bin)   \n",
       "21                               (Rainfall_Medium_Bin)   \n",
       "22                                  (Rainfall_Low_Bin)   \n",
       "36                               (Rainfall_Medium_Bin)   \n",
       "78      (MinimumTemperature_Low_Bin, Rainfall_Low_Bin)   \n",
       "..                                                 ...   \n",
       "371  (MaximumTemperature_High_Bin, Rainfall_Low_Bin...   \n",
       "372  (MaximumTemperature_High_Bin, Rainfall_Low_Bin...   \n",
       "375  (MaximumTemperature_High_Bin, Rainfall_High_Bi...   \n",
       "376  (MaximumTemperature_High_Bin, Rainfall_Low_Bin...   \n",
       "382  (MaximumTemperature_High_Bin, Temperature3pm_H...   \n",
       "\n",
       "                                  consequents  antecedent support  \\\n",
       "20                      (Rainfall_Medium_Bin)            0.785798   \n",
       "21                         (Rainfall_Low_Bin)            0.785798   \n",
       "22                        (Rainfall_High_Bin)            0.785798   \n",
       "36                        (Rainfall_High_Bin)            0.785798   \n",
       "78                      (Rainfall_Medium_Bin)            0.255476   \n",
       "..                                        ...                 ...   \n",
       "371                     (Rainfall_Medium_Bin)            0.258244   \n",
       "372                       (Rainfall_High_Bin)            0.258244   \n",
       "375                        (Rainfall_Low_Bin)            0.258244   \n",
       "376  (Rainfall_High_Bin, Rainfall_Medium_Bin)            0.258244   \n",
       "382     (Rainfall_Low_Bin, Rainfall_High_Bin)            0.258244   \n",
       "\n",
       "     consequent support   support  confidence      lift  leverage  conviction  \\\n",
       "20             0.785798  0.785798         1.0  1.272591  0.168319         inf   \n",
       "21             0.785798  0.785798         1.0  1.272591  0.168319         inf   \n",
       "22             0.936844  0.785798         1.0  1.067414  0.049628         inf   \n",
       "36             0.936844  0.785798         1.0  1.067414  0.049628         inf   \n",
       "78             0.785798  0.255476         1.0  1.272591  0.054723         inf   \n",
       "..                  ...       ...         ...       ...       ...         ...   \n",
       "371            0.785798  0.258244         1.0  1.272591  0.055316         inf   \n",
       "372            0.936844  0.258244         1.0  1.067414  0.016310         inf   \n",
       "375            0.785798  0.258244         1.0  1.272591  0.055316         inf   \n",
       "376            0.785798  0.258244         1.0  1.272591  0.055316         inf   \n",
       "382            0.785798  0.258244         1.0  1.272591  0.055316         inf   \n",
       "\n",
       "     zhangs_metric  \n",
       "20        1.000000  \n",
       "21        1.000000  \n",
       "22        0.294844  \n",
       "36        0.294844  \n",
       "78        0.287703  \n",
       "..             ...  \n",
       "371       0.288777  \n",
       "372       0.085144  \n",
       "375       0.288777  \n",
       "376       0.288777  \n",
       "382       0.288777  \n",
       "\n",
       "[144 rows x 10 columns]"
      ]
     },
     "execution_count": 66,
     "metadata": {},
     "output_type": "execute_result"
    }
   ],
   "source": [
    "rules[(rules['confidence'] == 1) & (rules['lift'] >= 1)]"
   ]
  },
  {
   "cell_type": "code",
   "execution_count": 68,
   "id": "07266881-6362-439b-8616-1cd9114c5d39",
   "metadata": {},
   "outputs": [
    {
     "name": "stderr",
     "output_type": "stream",
     "text": [
      "C:\\Users\\nunev\\anaconda3\\Lib\\site-packages\\mlxtend\\frequent_patterns\\fpcommon.py:109: DeprecationWarning: DataFrames with non-bool types result in worse computationalperformance and their support might be discontinued in the future.Please use a DataFrame with bool type\n",
      "  warnings.warn(\n"
     ]
    },
    {
     "name": "stdout",
     "output_type": "stream",
     "text": [
      "                                      antecedents  \\\n",
      "0                         (WindSpeed9am_High_Bin)   \n",
      "1                         (WindSpeed9am_High_Bin)   \n",
      "2                         (WindSpeed9am_High_Bin)   \n",
      "3      (WindSpeed9am_High_Bin, Rainfall_High_Bin)   \n",
      "4    (WindSpeed9am_High_Bin, Rainfall_Medium_Bin)   \n",
      "..                                            ...   \n",
      "389     (Rainfall_High_Bin, Pressure3pm_High_Bin)   \n",
      "390     (Rainfall_High_Bin, Pressure9am_High_Bin)   \n",
      "391  (Pressure3pm_High_Bin, Pressure9am_High_Bin)   \n",
      "392                        (Pressure3pm_High_Bin)   \n",
      "393                        (Pressure9am_High_Bin)   \n",
      "\n",
      "                                   consequents  antecedent support  \\\n",
      "0                          (Rainfall_High_Bin)            0.351672   \n",
      "1                        (Rainfall_Medium_Bin)            0.351672   \n",
      "2                           (Rainfall_Low_Bin)            0.351672   \n",
      "3                        (Rainfall_Medium_Bin)            0.326267   \n",
      "4                          (Rainfall_High_Bin)            0.274950   \n",
      "..                                         ...                 ...   \n",
      "389                     (Pressure9am_High_Bin)            0.295779   \n",
      "390                     (Pressure3pm_High_Bin)            0.300841   \n",
      "391                        (Rainfall_High_Bin)            0.272213   \n",
      "392  (Rainfall_High_Bin, Pressure9am_High_Bin)            0.316855   \n",
      "393  (Rainfall_High_Bin, Pressure3pm_High_Bin)            0.318911   \n",
      "\n",
      "     consequent support   support  confidence      lift  leverage  conviction  \\\n",
      "0              0.936844  0.326267    0.927759  0.990303 -0.003195    0.874245   \n",
      "1              0.785798  0.274950    0.781838  0.994961 -0.001393    0.981849   \n",
      "2              0.785798  0.274950    0.781838  0.994961 -0.001393    0.981849   \n",
      "3              0.785798  0.274950    0.842717  1.072434  0.018571    1.361886   \n",
      "4              0.936844  0.274950    1.000000  1.067414  0.017365         inf   \n",
      "..                  ...       ...         ...       ...       ...         ...   \n",
      "389            0.318911  0.256199    0.866185  2.716073  0.161872    5.089769   \n",
      "390            0.316855  0.256199    0.851609  2.687695  0.160876    4.603682   \n",
      "391            0.936844  0.256199    0.941172  1.004620  0.001178    1.073571   \n",
      "392            0.300841  0.256199    0.808569  2.687695  0.160876    3.652275   \n",
      "393            0.295779  0.256199    0.803356  2.716073  0.161872    3.581204   \n",
      "\n",
      "     zhangs_metric  \n",
      "0        -0.014879  \n",
      "1        -0.007752  \n",
      "2        -0.007752  \n",
      "3         0.100250  \n",
      "4         0.087106  \n",
      "..             ...  \n",
      "389       0.897191  \n",
      "390       0.898128  \n",
      "391       0.006319  \n",
      "392       0.919181  \n",
      "393       0.927663  \n",
      "\n",
      "[394 rows x 10 columns]\n"
     ]
    }
   ],
   "source": [
    "from mlxtend.frequent_patterns import fpgrowth, association_rules\n",
    "# Apply FP-Growth to find frequent itemsets\n",
    "frequent_itemsets = fpgrowth(df_binary, min_support=0.25, use_colnames=True)\n",
    "\n",
    "# Generate association rules from frequent itemsets\n",
    "rules = association_rules(frequent_itemsets, metric=\"confidence\", min_threshold=0.7)\n",
    "\n",
    "# Print rules\n",
    "print(rules)"
   ]
  },
  {
   "cell_type": "code",
   "execution_count": 69,
   "id": "27df52eb-682a-4f87-8611-caf5b5063133",
   "metadata": {},
   "outputs": [
    {
     "data": {
      "text/plain": [
       "(144, 10)"
      ]
     },
     "execution_count": 69,
     "metadata": {},
     "output_type": "execute_result"
    }
   ],
   "source": [
    "rules[(rules['confidence'] == 1) & (rules['lift'] >= 1)].shape"
   ]
  },
  {
   "cell_type": "code",
   "execution_count": 72,
   "id": "5f2b15e0-fa1f-4bf7-bba0-ecb323d29c17",
   "metadata": {},
   "outputs": [
    {
     "data": {
      "text/html": [
       "<div>\n",
       "<style scoped>\n",
       "    .dataframe tbody tr th:only-of-type {\n",
       "        vertical-align: middle;\n",
       "    }\n",
       "\n",
       "    .dataframe tbody tr th {\n",
       "        vertical-align: top;\n",
       "    }\n",
       "\n",
       "    .dataframe thead th {\n",
       "        text-align: right;\n",
       "    }\n",
       "</style>\n",
       "<table border=\"1\" class=\"dataframe\">\n",
       "  <thead>\n",
       "    <tr style=\"text-align: right;\">\n",
       "      <th></th>\n",
       "      <th>antecedents</th>\n",
       "      <th>consequents</th>\n",
       "      <th>antecedent support</th>\n",
       "      <th>consequent support</th>\n",
       "      <th>support</th>\n",
       "      <th>confidence</th>\n",
       "      <th>lift</th>\n",
       "      <th>leverage</th>\n",
       "      <th>conviction</th>\n",
       "      <th>zhangs_metric</th>\n",
       "    </tr>\n",
       "  </thead>\n",
       "  <tbody>\n",
       "    <tr>\n",
       "      <th>0</th>\n",
       "      <td>(WindSpeed9am_High_Bin)</td>\n",
       "      <td>(Rainfall_High_Bin)</td>\n",
       "      <td>0.351672</td>\n",
       "      <td>0.936844</td>\n",
       "      <td>0.326267</td>\n",
       "      <td>0.927759</td>\n",
       "      <td>0.990303</td>\n",
       "      <td>-0.003195</td>\n",
       "      <td>0.874245</td>\n",
       "      <td>-0.014879</td>\n",
       "    </tr>\n",
       "    <tr>\n",
       "      <th>1</th>\n",
       "      <td>(WindSpeed9am_High_Bin)</td>\n",
       "      <td>(Rainfall_Medium_Bin)</td>\n",
       "      <td>0.351672</td>\n",
       "      <td>0.785798</td>\n",
       "      <td>0.274950</td>\n",
       "      <td>0.781838</td>\n",
       "      <td>0.994961</td>\n",
       "      <td>-0.001393</td>\n",
       "      <td>0.981849</td>\n",
       "      <td>-0.007752</td>\n",
       "    </tr>\n",
       "    <tr>\n",
       "      <th>2</th>\n",
       "      <td>(WindSpeed9am_High_Bin)</td>\n",
       "      <td>(Rainfall_Low_Bin)</td>\n",
       "      <td>0.351672</td>\n",
       "      <td>0.785798</td>\n",
       "      <td>0.274950</td>\n",
       "      <td>0.781838</td>\n",
       "      <td>0.994961</td>\n",
       "      <td>-0.001393</td>\n",
       "      <td>0.981849</td>\n",
       "      <td>-0.007752</td>\n",
       "    </tr>\n",
       "    <tr>\n",
       "      <th>3</th>\n",
       "      <td>(WindSpeed9am_High_Bin, Rainfall_High_Bin)</td>\n",
       "      <td>(Rainfall_Medium_Bin)</td>\n",
       "      <td>0.326267</td>\n",
       "      <td>0.785798</td>\n",
       "      <td>0.274950</td>\n",
       "      <td>0.842717</td>\n",
       "      <td>1.072434</td>\n",
       "      <td>0.018571</td>\n",
       "      <td>1.361886</td>\n",
       "      <td>0.100250</td>\n",
       "    </tr>\n",
       "    <tr>\n",
       "      <th>4</th>\n",
       "      <td>(WindSpeed9am_High_Bin, Rainfall_Medium_Bin)</td>\n",
       "      <td>(Rainfall_High_Bin)</td>\n",
       "      <td>0.274950</td>\n",
       "      <td>0.936844</td>\n",
       "      <td>0.274950</td>\n",
       "      <td>1.000000</td>\n",
       "      <td>1.067414</td>\n",
       "      <td>0.017365</td>\n",
       "      <td>inf</td>\n",
       "      <td>0.087106</td>\n",
       "    </tr>\n",
       "    <tr>\n",
       "      <th>5</th>\n",
       "      <td>(WindSpeed9am_High_Bin)</td>\n",
       "      <td>(Rainfall_High_Bin, Rainfall_Medium_Bin)</td>\n",
       "      <td>0.351672</td>\n",
       "      <td>0.785798</td>\n",
       "      <td>0.274950</td>\n",
       "      <td>0.781838</td>\n",
       "      <td>0.994961</td>\n",
       "      <td>-0.001393</td>\n",
       "      <td>0.981849</td>\n",
       "      <td>-0.007752</td>\n",
       "    </tr>\n",
       "    <tr>\n",
       "      <th>6</th>\n",
       "      <td>(WindSpeed9am_High_Bin, Rainfall_Low_Bin)</td>\n",
       "      <td>(Rainfall_High_Bin)</td>\n",
       "      <td>0.274950</td>\n",
       "      <td>0.936844</td>\n",
       "      <td>0.274950</td>\n",
       "      <td>1.000000</td>\n",
       "      <td>1.067414</td>\n",
       "      <td>0.017365</td>\n",
       "      <td>inf</td>\n",
       "      <td>0.087106</td>\n",
       "    </tr>\n",
       "    <tr>\n",
       "      <th>7</th>\n",
       "      <td>(WindSpeed9am_High_Bin, Rainfall_High_Bin)</td>\n",
       "      <td>(Rainfall_Low_Bin)</td>\n",
       "      <td>0.326267</td>\n",
       "      <td>0.785798</td>\n",
       "      <td>0.274950</td>\n",
       "      <td>0.842717</td>\n",
       "      <td>1.072434</td>\n",
       "      <td>0.018571</td>\n",
       "      <td>1.361886</td>\n",
       "      <td>0.100250</td>\n",
       "    </tr>\n",
       "    <tr>\n",
       "      <th>8</th>\n",
       "      <td>(WindSpeed9am_High_Bin)</td>\n",
       "      <td>(Rainfall_Low_Bin, Rainfall_High_Bin)</td>\n",
       "      <td>0.351672</td>\n",
       "      <td>0.785798</td>\n",
       "      <td>0.274950</td>\n",
       "      <td>0.781838</td>\n",
       "      <td>0.994961</td>\n",
       "      <td>-0.001393</td>\n",
       "      <td>0.981849</td>\n",
       "      <td>-0.007752</td>\n",
       "    </tr>\n",
       "    <tr>\n",
       "      <th>9</th>\n",
       "      <td>(WindSpeed9am_High_Bin, Rainfall_Low_Bin)</td>\n",
       "      <td>(Rainfall_Medium_Bin)</td>\n",
       "      <td>0.274950</td>\n",
       "      <td>0.785798</td>\n",
       "      <td>0.274950</td>\n",
       "      <td>1.000000</td>\n",
       "      <td>1.272591</td>\n",
       "      <td>0.058895</td>\n",
       "      <td>inf</td>\n",
       "      <td>0.295430</td>\n",
       "    </tr>\n",
       "  </tbody>\n",
       "</table>\n",
       "</div>"
      ],
      "text/plain": [
       "                                    antecedents  \\\n",
       "0                       (WindSpeed9am_High_Bin)   \n",
       "1                       (WindSpeed9am_High_Bin)   \n",
       "2                       (WindSpeed9am_High_Bin)   \n",
       "3    (WindSpeed9am_High_Bin, Rainfall_High_Bin)   \n",
       "4  (WindSpeed9am_High_Bin, Rainfall_Medium_Bin)   \n",
       "5                       (WindSpeed9am_High_Bin)   \n",
       "6     (WindSpeed9am_High_Bin, Rainfall_Low_Bin)   \n",
       "7    (WindSpeed9am_High_Bin, Rainfall_High_Bin)   \n",
       "8                       (WindSpeed9am_High_Bin)   \n",
       "9     (WindSpeed9am_High_Bin, Rainfall_Low_Bin)   \n",
       "\n",
       "                                consequents  antecedent support  \\\n",
       "0                       (Rainfall_High_Bin)            0.351672   \n",
       "1                     (Rainfall_Medium_Bin)            0.351672   \n",
       "2                        (Rainfall_Low_Bin)            0.351672   \n",
       "3                     (Rainfall_Medium_Bin)            0.326267   \n",
       "4                       (Rainfall_High_Bin)            0.274950   \n",
       "5  (Rainfall_High_Bin, Rainfall_Medium_Bin)            0.351672   \n",
       "6                       (Rainfall_High_Bin)            0.274950   \n",
       "7                        (Rainfall_Low_Bin)            0.326267   \n",
       "8     (Rainfall_Low_Bin, Rainfall_High_Bin)            0.351672   \n",
       "9                     (Rainfall_Medium_Bin)            0.274950   \n",
       "\n",
       "   consequent support   support  confidence      lift  leverage  conviction  \\\n",
       "0            0.936844  0.326267    0.927759  0.990303 -0.003195    0.874245   \n",
       "1            0.785798  0.274950    0.781838  0.994961 -0.001393    0.981849   \n",
       "2            0.785798  0.274950    0.781838  0.994961 -0.001393    0.981849   \n",
       "3            0.785798  0.274950    0.842717  1.072434  0.018571    1.361886   \n",
       "4            0.936844  0.274950    1.000000  1.067414  0.017365         inf   \n",
       "5            0.785798  0.274950    0.781838  0.994961 -0.001393    0.981849   \n",
       "6            0.936844  0.274950    1.000000  1.067414  0.017365         inf   \n",
       "7            0.785798  0.274950    0.842717  1.072434  0.018571    1.361886   \n",
       "8            0.785798  0.274950    0.781838  0.994961 -0.001393    0.981849   \n",
       "9            0.785798  0.274950    1.000000  1.272591  0.058895         inf   \n",
       "\n",
       "   zhangs_metric  \n",
       "0      -0.014879  \n",
       "1      -0.007752  \n",
       "2      -0.007752  \n",
       "3       0.100250  \n",
       "4       0.087106  \n",
       "5      -0.007752  \n",
       "6       0.087106  \n",
       "7       0.100250  \n",
       "8      -0.007752  \n",
       "9       0.295430  "
      ]
     },
     "execution_count": 72,
     "metadata": {},
     "output_type": "execute_result"
    }
   ],
   "source": [
    "rules.head(10)"
   ]
  },
  {
   "cell_type": "code",
   "execution_count": null,
   "id": "fb1c6d4e-6dc5-4b15-8d55-3801aede0f59",
   "metadata": {},
   "outputs": [],
   "source": []
  }
 ],
 "metadata": {
  "kernelspec": {
   "display_name": "Python 3 (ipykernel)",
   "language": "python",
   "name": "python3"
  },
  "language_info": {
   "codemirror_mode": {
    "name": "ipython",
    "version": 3
   },
   "file_extension": ".py",
   "mimetype": "text/x-python",
   "name": "python",
   "nbconvert_exporter": "python",
   "pygments_lexer": "ipython3",
   "version": "3.12.4"
  }
 },
 "nbformat": 4,
 "nbformat_minor": 5
}
